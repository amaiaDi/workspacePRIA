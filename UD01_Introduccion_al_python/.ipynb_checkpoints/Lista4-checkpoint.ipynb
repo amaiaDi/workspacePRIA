{
 "cells": [
  {
   "cell_type": "markdown",
   "id": "d287d88e",
   "metadata": {},
   "source": [
    "# LISTA 4 - NUMPY"
   ]
  },
  {
   "cell_type": "markdown",
   "id": "f99190d1",
   "metadata": {},
   "source": [
    "## EJERCICIO 1"
   ]
  },
  {
   "attachments": {},
   "cell_type": "markdown",
   "id": "b3836703",
   "metadata": {},
   "source": [
    "Crea un array unidimensional de 9 elementos y transfórmalo en un array 3D. Muestra la dimensión y la shape antes y después del reshape."
   ]
  },
  {
   "cell_type": "code",
   "execution_count": null,
   "id": "10d5b17a",
   "metadata": {},
   "outputs": [],
   "source": [
    "import numpy as np\n",
    "a = np.array([1,2,3,4,5,6,7,8,9])\n",
    "print(\"Dimension:\", a.ndim)\n",
    "print(\"Shape:\", a.shape)\n",
    "b=a.reshape(1,3,3)\n",
    "print(b)"
   ]
  },
  {
   "cell_type": "markdown",
   "id": "feb0417e",
   "metadata": {},
   "source": [
    "## EJERCICIO 2"
   ]
  },
  {
   "attachments": {},
   "cell_type": "markdown",
   "id": "91cd8f7c",
   "metadata": {},
   "source": [
    "Dados los arrays 2D ```[[-6, 5], [-4, 3], [-2, 1]] y [[1, 2], [3, 4], [5, 6]]```, concaténalos de modo que obtengas el array ```[[1, 2, -6, -5], [3, 4, -4, -3], [5, 6, -2, -1]]```"
   ]
  },
  {
   "cell_type": "code",
   "execution_count": null,
   "id": "a2d08eca",
   "metadata": {},
   "outputs": [],
   "source": [
    "import numpy as np\n",
    "a = np.array([[-6, -5], [-4, -3], [-2, -1]])\n",
    "b = np.array([[1, 2], [3, 4], [5, 6]])\n",
    "c=np.concatenate((b,a),axis=1)\n",
    "print(c)"
   ]
  },
  {
   "cell_type": "markdown",
   "id": "abf81a65",
   "metadata": {},
   "source": [
    "## EJERCICIO 3"
   ]
  },
  {
   "attachments": {},
   "cell_type": "markdown",
   "id": "c0dda757",
   "metadata": {},
   "source": [
    "Dado el array 2D ```[[1, 2, 3],[-1, 0, 1], [4, 5, 6], [-4, 0, 4], [3, 2, 1], [-3, 0, 3]]``` divídelo en 3 arrays 2D."
   ]
  },
  {
   "cell_type": "code",
   "execution_count": null,
   "id": "df9d019c",
   "metadata": {},
   "outputs": [],
   "source": [
    "import numpy as np\n",
    "a = np.array([[1, 2, 3], [-1, 0, 1], [4, 5, 6], [-4, 0, 4], [3, 2, 1], [-3, 0, 3]])\n",
    "b1,b2,b3=np.split(a,3)\n",
    "print(\"b1: \", b1)\n",
    "print(\"b2: \", b2)\n",
    "print(\"b3: \", b3)"
   ]
  },
  {
   "cell_type": "markdown",
   "id": "4d68e82b",
   "metadata": {},
   "source": [
    "## EJERCICIO 4"
   ]
  },
  {
   "attachments": {},
   "cell_type": "markdown",
   "id": "ec7f3b2a",
   "metadata": {},
   "source": [
    "Dado el array 2D ```[[\"ala\", \"delfín\", \"arroz\"], [\"cena\", \"kayak\", \"picnic\"], [\"hoja\", \"gato\", \"elle\"]]```, busca las palabras que sean palíndromos. Necesitarás una función universal."
   ]
  },
  {
   "cell_type": "code",
   "execution_count": null,
   "id": "738a88a3",
   "metadata": {},
   "outputs": [],
   "source": [
    "import numpy as np\n",
    "\n",
    "a = np.array([[\"ala\", \"delfín\", \"arroz\"], [\"cena\", \"kayak\", \"picnic\"], [\"hoja\", \"gato\", \"elle\"]])\n",
    "\n",
    "def es_palindromo(w):\n",
    "    w = w.lower()\n",
    "    n = len(w)\n",
    "    for c in range(int(n / 2)):\n",
    "        if w[c] != w[n - (c + 1)]:\n",
    "            return False\n",
    "    return True\n",
    "\n",
    "np_es_palindromo = np.frompyfunc(es_palindromo, 1, 1)\n",
    "print(a[np_es_palindromo(a) == True])\n",
    "\n",
    "indices=np.where(np_es_palindromo(a)==True)\n",
    "for i in range(len(indices[0])):\n",
    "    print(a[indices[0][i]][indices[1][i]])\n"
   ]
  },
  {
   "cell_type": "markdown",
   "id": "5c943554",
   "metadata": {},
   "source": [
    "## EJERCICIO 5"
   ]
  },
  {
   "attachments": {},
   "cell_type": "markdown",
   "id": "13d2c744",
   "metadata": {},
   "source": [
    "Crea un minijuego que piense un número aleatorio entre 1 y 10 y, hasta que no lo aciertes, te pida un número del 1 al 10. Cuando aciertes, tendrá que devolver el número de intentos y la frase: “¡¡¡ENHORABUENA!!! Has acertado el número que había pensado: el {}”. En caso de que falles, el juego deberá mostrar la frase “¡Has fallado! ¡Prueba otra vez!”"
   ]
  },
  {
   "cell_type": "code",
   "execution_count": 1,
   "id": "6e71e599",
   "metadata": {},
   "outputs": [
    {
     "name": "stdout",
     "output_type": "stream",
     "text": [
      "Introduce la dimensión de la matriz: 3\n",
      "[0, 1, 2]\n",
      "[3, 4, 5]\n",
      "[6, 7, 8]\n"
     ]
    }
   ],
   "source": [
    "import numpy as np\n",
    "numeroSecreto=np.random.randint(1,10)\n",
    "prueba=int(input(\"Intenta adivinar el número: \"))\n",
    "numPruebas=1\n",
    "while prueba!=numeroSecreto:\n",
    "    prueba=int(input(\"¡Has fallado!¡Prueba otra vez! \"))\n",
    "    numPruebas+=1\n",
    "print(\"¡¡¡ENHORABUENA!!! Has acertado el número que había pensado (\", numeroSecreto, \") en\", numPruebas, \"intentos\")\n"
   ]
  },
  {
   "cell_type": "markdown",
   "id": "2972dd7e",
   "metadata": {},
   "source": [
    "## EJERCICIO 6"
   ]
  },
  {
   "attachments": {},
   "cell_type": "markdown",
   "id": "ef3c12ce",
   "metadata": {},
   "source": [
    "Crea un minijuego que piense un array 1D aleatorio de 5 elementos. Los elementos serán números enteros entre 1 y 20. Para cada intento, primero tendrá que pedir 5 números enteros del 1 al 20. El juego nos tendrá que decir cuántos números del array hemos acertado y cuántos números del array están bien colocados. El juego no termina hasta que no se hayan acertado todos los números pensados en la posición correspondiente. Al acabar, se tendrá que mostrar la frase: “¡¡¡ENHORABUENA!!! Has acertado el array que había pensado: {}”"
   ]
  },
  {
   "cell_type": "code",
   "execution_count": null,
   "id": "94962662",
   "metadata": {},
   "outputs": [],
   "source": [
    "import numpy as np\n",
    "numerosSecretos=np.random.randint(0,20,5)\n",
    "ordenados=0\n",
    "while ordenados<5:\n",
    "    acertados=0\n",
    "    ordenados=0\n",
    "    for i in range(5):\n",
    "        num=int(input(\"Introduce el numero de la posición {}: \".format(i)))\n",
    "        if num in numerosSecretos:\n",
    "            acertados+=1\n",
    "        if numerosSecretos[i]==num:\n",
    "            ordenados+=1   \n",
    "    print(\"Has acertado: \", acertados)\n",
    "    print(\"Están en el ordena adecuado: \", ordenados)\n",
    "print(\"¡¡¡ENHORABUENA!!! Has acertado el array que había pensado:\", numerosSecretos)\n"
   ]
  },
  {
   "cell_type": "markdown",
   "id": "cbbfb36c",
   "metadata": {},
   "source": [
    "## EJERCICIO 7"
   ]
  },
  {
   "attachments": {},
   "cell_type": "markdown",
   "id": "f0211a75",
   "metadata": {},
   "source": [
    "A partir de la lista [-3, -2, -1, 0, 1, 2, 3], genera dos arrays aleatorios 2D de size = (3, 4) y súmalos."
   ]
  },
  {
   "cell_type": "code",
   "execution_count": null,
   "id": "1dbedf15",
   "metadata": {},
   "outputs": [],
   "source": [
    "import numpy as np\n",
    "a=np.array([-3, -2, -1, 0, 1, 2, 3])\n",
    "c1=np.random.choice(a, size = (3, 4))\n",
    "c2=np.random.choice(a, size = (3, 4))\n",
    "print(c1+c2)"
   ]
  },
  {
   "cell_type": "markdown",
   "id": "59397f22",
   "metadata": {},
   "source": [
    "## EJERCICIO 8"
   ]
  },
  {
   "attachments": {},
   "cell_type": "markdown",
   "id": "8272bcdf",
   "metadata": {},
   "source": [
    "Crea una función universal que dado un array de strings devuelva el número total de vocales de cada string."
   ]
  },
  {
   "cell_type": "code",
   "execution_count": null,
   "id": "4ae4ddf2",
   "metadata": {},
   "outputs": [],
   "source": [
    "import numpy as np\n",
    "a = np.array([\"ala\", \"delfin\", \"arroz\", \"cena\", \"kayak\", \"picnic\", \"hoja\", \"gato\", \"elle\"])\n",
    "\n",
    "def numVocales(w):\n",
    "    contador=0\n",
    "    w = w.lower()\n",
    "    for c in w:\n",
    "        if c in \"aeiou\":\n",
    "            contador+=1\n",
    "    return contador\n",
    "\n",
    "np_numVocales = np.frompyfunc(numVocales, 1, 1)\n",
    "print(np_numVocales(a))"
   ]
  },
  {
   "cell_type": "markdown",
   "id": "3e767176",
   "metadata": {},
   "source": [
    "## EJERCICIO 9"
   ]
  },
  {
   "cell_type": "markdown",
   "id": "9da406b8",
   "metadata": {},
   "source": [
    "En otro script de Python importa la clase Vector2D, crea dos objetos de la clase Vector2D y prueba que todos los métodos de la clase Vector2D funcionan correctamente."
   ]
  },
  {
   "cell_type": "code",
   "execution_count": 1,
   "id": "fe94cb7b",
   "metadata": {},
   "outputs": [
    {
     "ename": "ModuleNotFoundError",
     "evalue": "No module named 'vectors'",
     "output_type": "error",
     "traceback": [
      "\u001b[0;31m---------------------------------------------------------------------------\u001b[0m",
      "\u001b[0;31mModuleNotFoundError\u001b[0m                       Traceback (most recent call last)",
      "Cell \u001b[0;32mIn[1], line 1\u001b[0m\n\u001b[0;32m----> 1\u001b[0m \u001b[38;5;28;01mfrom\u001b[39;00m \u001b[38;5;21;01mvectors\u001b[39;00m \u001b[38;5;28;01mimport\u001b[39;00m Vector2D\n\u001b[1;32m      3\u001b[0m u\u001b[38;5;241m=\u001b[39mVector2D(\u001b[38;5;241m5\u001b[39m,\u001b[38;5;241m6\u001b[39m)\n\u001b[1;32m      4\u001b[0m v\u001b[38;5;241m=\u001b[39mVector2D(\u001b[38;5;241m-\u001b[39m\u001b[38;5;241m1\u001b[39m,\u001b[38;5;241m3\u001b[39m)\n",
      "\u001b[0;31mModuleNotFoundError\u001b[0m: No module named 'vectors'"
     ]
    }
   ],
   "source": [
    "from vectors import Vector2D\n",
    "\n",
    "u=Vector2D(5,6)\n",
    "v=Vector2D(-1,3)\n",
    "print(\"u:\", u)\n",
    "print(\"v:\", v)\n",
    "print(\"Modulo u\")\n",
    "print(u.module)\n",
    "print(\"Escalar de u por 2\")\n",
    "u.scalar_prod(2)\n",
    "print(u)\n",
    "print(\"Suma u y v\")\n",
    "print(Vector2D.sum(u,v))\n",
    "print(\"Resta u y v\")\n",
    "print(Vector2D.subtract(u,v))\n",
    "print(\"Producto u y v\")\n",
    "print(Vector2D.dot_product(u,v))\n",
    "print(\"Distancia u y v\")\n",
    "print(Vector2D.distance(u,v))\n",
    "print(\"Extender a 3D u con 4\")\n",
    "print(u.extend_to_3D(4))"
   ]
  },
  {
   "cell_type": "markdown",
   "id": "b97cdccc",
   "metadata": {},
   "source": [
    "## EJERCICIO 10"
   ]
  },
  {
   "cell_type": "markdown",
   "id": "4bbf4135",
   "metadata": {},
   "source": [
    "Ahora importa la clase Vector3D, crea dos objetos de la clase Vector3D y prueba que todos los métodos de la clase Vector3D funcionan correctamente."
   ]
  },
  {
   "cell_type": "code",
   "execution_count": null,
   "id": "2486a10c",
   "metadata": {},
   "outputs": [],
   "source": [
    "from vectors import Vector3D\n",
    "\n",
    "u=Vector3D(5,6,1)\n",
    "v=Vector3D(-1,3,4)\n",
    "print(\"u:\", u)\n",
    "print(\"v:\", v)\n",
    "print(\"Modulo u\")\n",
    "print(u.module())\n",
    "print(\"Escalar de u por 2\")\n",
    "u.scalar_prod(2)\n",
    "print(u)\n",
    "print(\"Suma u y v\")\n",
    "print(Vector3D.sum(u,v))\n",
    "print(\"Resta u y v\")\n",
    "print(Vector3D.subtract(u,v))\n",
    "print(\"Producto u y v\")\n",
    "print(Vector3D.dot_product(u,v))\n",
    "print(\"Distancia u y v\")\n",
    "print(Vector3D.distance(u,v))\n",
    "print(Vector3D.zero())\n",
    "print(Vector3D.horizontal())\n",
    "print(Vector3D.vertical())\n",
    "print(Vector3D.forward())"
   ]
  },
  {
   "cell_type": "markdown",
   "id": "17b343e6",
   "metadata": {},
   "source": [
    "## EJERCICIO 11"
   ]
  },
  {
   "cell_type": "markdown",
   "id": "f8b0d8b1",
   "metadata": {},
   "source": [
    "Crea varios objetos de la clase anterior y prueba todos los métodos "
   ]
  },
  {
   "cell_type": "code",
   "execution_count": null,
   "id": "5b526e4a",
   "metadata": {},
   "outputs": [],
   "source": []
  },
  {
   "cell_type": "markdown",
   "id": "88fe1c72",
   "metadata": {},
   "source": [
    "## EJERCICIO 12"
   ]
  },
  {
   "cell_type": "markdown",
   "id": "f7446bb5",
   "metadata": {},
   "source": [
    "Crea un programa que pida el número de palabras a introducir. Crear un diccionario de clave la palabra y de valor el número de vocales de la palabra."
   ]
  },
  {
   "cell_type": "code",
   "execution_count": null,
   "id": "0ff77c22",
   "metadata": {},
   "outputs": [],
   "source": [
    "dic={}\n",
    "numero=int(input(\"Introduce el número de palabras a introducir: \"))\n",
    "for i in range(1,numero+1):\n",
    "    palabra=input(\"Introduce una palabra: \")\n",
    "    numVocales=0\n",
    "    for c in palabra:\n",
    "        if c.lower() in \"aeiou\":\n",
    "            numVocales+=1\n",
    "    dic[palabra]=numVocales\n",
    "print(dic)"
   ]
  },
  {
   "cell_type": "markdown",
   "id": "6bcd805d",
   "metadata": {},
   "source": [
    "## EJERCICIO 13"
   ]
  },
  {
   "cell_type": "markdown",
   "id": "18202d6c",
   "metadata": {},
   "source": [
    "Dado un número entero introducido por el usuario, guarda sus divisores en un conjunto y muéstralo."
   ]
  },
  {
   "cell_type": "code",
   "execution_count": null,
   "id": "667e2362",
   "metadata": {},
   "outputs": [],
   "source": [
    "numero = int(input(\"Introduce un numero: \"))\n",
    "divisores=set({})\n",
    "for i in range(1, numero//2+1):\n",
    "    if numero%i==0:\n",
    "        divisores.add(i)\n",
    "print(\"Los divisores de {} son: \".format(numero))\n",
    "print(divisores)"
   ]
  },
  {
   "cell_type": "markdown",
   "id": "e60749fd",
   "metadata": {},
   "source": [
    "## EJERCICIO 14"
   ]
  },
  {
   "cell_type": "markdown",
   "id": "e7b12a5a",
   "metadata": {},
   "source": [
    "Crea un programa que dado un conjunto de números entero, nos devuelva su mínimo. Debes hacerlo sin recurrir a la función min().\n",
    "\n",
    "conjunto={-2,-15,1,6,9,-50,100,200,10,20,5}"
   ]
  },
  {
   "cell_type": "code",
   "execution_count": null,
   "id": "c1fdbe10",
   "metadata": {},
   "outputs": [],
   "source": [
    "conjunto={-2,-15,1,6,9,-50,100,200,10,20,5}\n",
    "empezar = True\n",
    "for elemento in conjunto:\n",
    "    if empezar == True:\n",
    "        empezar = False\n",
    "        minimo = elemento\n",
    "    else:\n",
    "        if (elemento < minimo):\n",
    "            minimo=elemento\n",
    "print (\"El mínimo es: {}\".format(minimo))"
   ]
  },
  {
   "cell_type": "markdown",
   "id": "f4d9baeb",
   "metadata": {},
   "source": [
    "## EJERCICIO 15"
   ]
  },
  {
   "cell_type": "markdown",
   "id": "a4d923cf",
   "metadata": {},
   "source": [
    "Dado un conjunto, crea un programa que nos devuelva el carácter con mayor valor ASCII. Debes hacerlo sin recurrir a la función max().\n",
    "\n",
    "conjunto={\"0\",\"*\",\"a\",\"A\",\"z\"}"
   ]
  },
  {
   "cell_type": "code",
   "execution_count": null,
   "id": "7756a575",
   "metadata": {},
   "outputs": [],
   "source": [
    "conjunto={\"0\",\"*\",\"a\",\"A\",\"z\"}\n",
    "empezar = True\n",
    "for elemento in conjunto:\n",
    "    print(elemento, \"-\",ord(elemento))\n",
    "    if empezar == True:\n",
    "        empezar = False\n",
    "        maximo = ord(elemento)\n",
    "        maxCaracter = elemento\n",
    "    else:\n",
    "        if ord(elemento) > maximo:\n",
    "            maximo=ord(elemento)\n",
    "            maxCaracter=elemento\n",
    "print (\"El elemento cuyo código ASCII es mayor es: {}\".format(maxCaracter))\n"
   ]
  },
  {
   "cell_type": "markdown",
   "id": "d435b059",
   "metadata": {},
   "source": [
    "## EJERCICIO 16"
   ]
  },
  {
   "cell_type": "markdown",
   "id": "7e6b011b",
   "metadata": {},
   "source": [
    "Dada una frase introducida por teclado, guarda en un conjunto la primera letra de cada palabra (en minúscula) y muestra el contenido del conjunto."
   ]
  },
  {
   "cell_type": "code",
   "execution_count": null,
   "id": "3eaa4b8c",
   "metadata": {},
   "outputs": [],
   "source": [
    "frase=input(\"Introduce una frase: \")\n",
    "frase=frase.title()\n",
    "primerasLetras=set()\n",
    "palabras=frase.split(\" \")\n",
    "for c in palabras:\n",
    "    primerasLetras.add(c[0].lower())\n",
    "print(\"Las primeras letras de cada palabra son: \")\n",
    "print(primerasLetras)"
   ]
  },
  {
   "cell_type": "markdown",
   "id": "b13661b8",
   "metadata": {},
   "source": [
    "## EJERCICIO 17"
   ]
  },
  {
   "cell_type": "markdown",
   "id": "8f603b4d",
   "metadata": {},
   "source": [
    "Pide al usuario el número de números enteros que va a introducir por teclado. Para cada uno de esos números, crea una tupla donde la primera entrada sea el número entero y, la segunda, la palabra “par” o “impar” según la paridad del número entero. Muestra la tupla recién creada al usuario."
   ]
  },
  {
   "cell_type": "code",
   "execution_count": null,
   "id": "cd01dcd9",
   "metadata": {},
   "outputs": [],
   "source": [
    "num=int(input(\"Introduce el número de números que vas a introducir: \"))\n",
    "numeros=[]\n",
    "for i in range(num):\n",
    "    numero = int(input(\"Introduce un numero: \"))\n",
    "    if numero%2==0:\n",
    "        tupla=(numero,\"par\")\n",
    "    else:\n",
    "        tupla=(numero,\"impar\")\n",
    "    numeros.append(tupla)\n",
    "print(numeros)\n"
   ]
  },
  {
   "cell_type": "markdown",
   "id": "091b0304",
   "metadata": {},
   "source": [
    "## EJERCICIO 18 "
   ]
  },
  {
   "cell_type": "markdown",
   "id": "012faa39",
   "metadata": {},
   "source": [
    "Dada una frase proporcionada por el usuario, crea una lista de tuplas indicando palabra, longitud de cada palabra, letra inicial y posición que ocupan dentro de la frase."
   ]
  },
  {
   "cell_type": "code",
   "execution_count": null,
   "id": "5643bad4",
   "metadata": {},
   "outputs": [],
   "source": [
    "frase=input(\"Introduce una frase: \")\n",
    "palabras=frase.split(\" \")\n",
    "infoPalabras=[]\n",
    "for i in range(len(palabras)):\n",
    "    infoPalabras.append((palabras[i], len(palabras[i]),palabras[i][0],i+1))\n",
    "print(infoPalabras)\n"
   ]
  },
  {
   "cell_type": "markdown",
   "id": "d4717e6e",
   "metadata": {},
   "source": [
    "## EJERCICIO 19"
   ]
  },
  {
   "cell_type": "markdown",
   "id": "9da6b358",
   "metadata": {},
   "source": [
    "Haz que el usuario introduzca palabras hasta que introduzca una palabra vacía. Guarda todas las palabras en una tupla y muestra la primera y la última introducidas haciendo uso del método unpacking. Para guardar los elementos de uno en uno vas a tener que utilizar un tipo de dato que no es tupla y luego transformarlo a tupla."
   ]
  },
  {
   "cell_type": "code",
   "execution_count": null,
   "id": "c6bf57d3",
   "metadata": {},
   "outputs": [],
   "source": [
    "palabra=input(\"Introduce una palabra: \")\n",
    "palabras=[]\n",
    "while palabra!=\"\":\n",
    "    palabras.append(palabra)\n",
    "    palabra\n",
    "=input(\"Introduce una palabra: \")\n",
    "tPalabras=tuple(palabras)\n",
    "(palabra1,*palabras_intermediass,palabran)= tPalabras\n",
    "resultado=(palabra1,palabran)\n",
    "print(resultado)\n"
   ]
  },
  {
   "cell_type": "markdown",
   "id": "5682170e",
   "metadata": {},
   "source": [
    "## EJERCICO 20"
   ]
  },
  {
   "cell_type": "markdown",
   "id": "312b62ee",
   "metadata": {},
   "source": [
    "Dada una lista de palabras, crea otra lista del mismo tamaño que guarde la longitud de cada palabra. Usa la función zip() para crear un diccionario con claves las palabras y valores su longitud.\n",
    "\n",
    "palabras=```[\"prueba\",\"ejemplo\",\"largo\",\"funcionar\"]```"
   ]
  },
  {
   "cell_type": "code",
   "execution_count": null,
   "id": "a669b4e7",
   "metadata": {},
   "outputs": [],
   "source": [
    "longitudes=[]\n",
    "for palabra in palabras:\n",
    "    longitudes.append(len(palabra))\n",
    "items=zip(palabras,longitudes)\n",
    "print(items)\n",
    "dic=dict(items)\n",
    "print(dic)\n"
   ]
  },
  {
   "cell_type": "markdown",
   "id": "84287aed",
   "metadata": {},
   "source": [
    "## EJERCICIO 21"
   ]
  },
  {
   "cell_type": "markdown",
   "id": "48cf964b",
   "metadata": {},
   "source": [
    "Pide al usuario dos números enteros por teclado. Asegúrate de que el primero es mayor o igual al segundo. Realiza la división entera y guarda en una tupla el dividendo, el divisor, el cociente y el resto de la división entera realizada y muéstrale al usuario el resultado por pantalla."
   ]
  },
  {
   "cell_type": "code",
   "execution_count": null,
   "id": "78125cb9",
   "metadata": {},
   "outputs": [],
   "source": [
    "numero1=int(input(\"Introduce un número entero: \"))\n",
    "numero2=int(input(\"Introduce un número entero: \"))\n",
    "if numero1 >= numero2:\n",
    "    division=(numero1,numero2,numero1//numero2,numero1%numero2)\n",
    "    print(division)\n",
    "else:\n",
    "    print(\"El primer tiene que ser mayor o igual que el segundo\")\n"
   ]
  },
  {
   "cell_type": "markdown",
   "id": "7efdca65",
   "metadata": {},
   "source": [
    "## EJERCICIO 22"
   ]
  },
  {
   "cell_type": "markdown",
   "id": "498a0370",
   "metadata": {},
   "source": [
    "Pide al usuario números entre 0 y 360 (comprueba que el número introducido sea un entero entre 0 y 360). Para cada número, crea una tupla donde la primera entrada sea dicho número y, la segunda, la medida angular correspondiente en radianes. Recuerda, 360◦ = 2π rad."
   ]
  },
  {
   "cell_type": "code",
   "execution_count": null,
   "id": "07b83835",
   "metadata": {},
   "outputs": [],
   "source": [
    "import math\n",
    "numero=input(\"Introduce un número entre 0 y 360: \")\n",
    "if numero.isdigit():\n",
    "    if type(int(numero))!=type(0):\n",
    "        print(\"El dato introducido no es correcto\")\n",
    "    else:\n",
    "        numero=int(numero)\n",
    "        if numero<0 or numero >360:\n",
    "            print(\"El dato introducido no es correcto\")\n",
    "        else:\n",
    "            angulo=(numero, (numero*2*math.pi)/360)\n",
    "            print(angulo)\n",
    "else:\n",
    "    print(\"El dato introducido no es correcto\")\n"
   ]
  },
  {
   "cell_type": "markdown",
   "id": "905d66c0",
   "metadata": {},
   "source": [
    "## EJERCICIO 23"
   ]
  },
  {
   "cell_type": "markdown",
   "id": "db625965",
   "metadata": {},
   "source": []
  },
  {
   "cell_type": "code",
   "execution_count": null,
   "id": "b932f440",
   "metadata": {},
   "outputs": [],
   "source": []
  },
  {
   "cell_type": "markdown",
   "id": "3002c7e8",
   "metadata": {},
   "source": [
    "## EJERCICIO 24"
   ]
  },
  {
   "cell_type": "markdown",
   "id": "7d9974d5",
   "metadata": {},
   "source": []
  },
  {
   "cell_type": "code",
   "execution_count": null,
   "id": "68645eef",
   "metadata": {},
   "outputs": [],
   "source": []
  },
  {
   "cell_type": "markdown",
   "id": "e9b1ddf3",
   "metadata": {},
   "source": [
    "## EJERCICIO 25"
   ]
  },
  {
   "cell_type": "markdown",
   "id": "28171fb8",
   "metadata": {},
   "source": []
  },
  {
   "cell_type": "code",
   "execution_count": null,
   "id": "63b70d99",
   "metadata": {},
   "outputs": [],
   "source": []
  }
 ],
 "metadata": {
  "kernelspec": {
   "display_name": "Python 3 (ipykernel)",
   "language": "python",
   "name": "python3"
  },
  "language_info": {
   "codemirror_mode": {
    "name": "ipython",
    "version": 3
   },
   "file_extension": ".py",
   "mimetype": "text/x-python",
   "name": "python",
   "nbconvert_exporter": "python",
   "pygments_lexer": "ipython3",
   "version": "3.10.9"
  }
 },
 "nbformat": 4,
 "nbformat_minor": 5
}
