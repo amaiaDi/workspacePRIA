{
 "cells": [
  {
   "cell_type": "markdown",
   "id": "d287d88e",
   "metadata": {},
   "source": [
    "# LISTA 10 - EXCEPCIONES"
   ]
  },
  {
   "cell_type": "markdown",
   "id": "f99190d1",
   "metadata": {},
   "source": [
    "## EJERCICIO 1"
   ]
  },
  {
   "attachments": {},
   "cell_type": "markdown",
   "id": "b3836703",
   "metadata": {},
   "source": [
    "Dada la función divisors(), asegura con assert que el parámetro n se trata de un número entero positivo. De lo contrario, muestra como mensaje que \"n debe ser de tipo int y debe ser mayor que 0\"\n",
    "\n",
    "```\n",
    "def divisors(n):\n",
    "    \"\"\"\n",
    "    Calcula los divisores de un número entero positivo.\n",
    "    Args:\n",
    "        n: Número entero positive\n",
    "    Returns:\n",
    "        divisors: Lista de divisores de n\n",
    "    \"\"\"\"\n",
    "    divisors = []\n",
    "    for i in range(1, n + 1):\n",
    "        if n % i == 0: divisors.append(i)\n",
    "     return divisors\n",
    "```"
   ]
  },
  {
   "cell_type": "code",
   "execution_count": 3,
   "id": "10d5b17a",
   "metadata": {},
   "outputs": [
    {
     "ename": "AssertionError",
     "evalue": "n debe ser de tipo int y debe ser mayor que 0",
     "output_type": "error",
     "traceback": [
      "\u001b[0;31m---------------------------------------------------------------------------\u001b[0m",
      "\u001b[0;31mAssertionError\u001b[0m                            Traceback (most recent call last)",
      "Cell \u001b[0;32mIn[3], line 8\u001b[0m\n\u001b[1;32m      5\u001b[0m         \u001b[38;5;28;01mif\u001b[39;00m n \u001b[38;5;241m%\u001b[39m i \u001b[38;5;241m==\u001b[39m \u001b[38;5;241m0\u001b[39m: divisors\u001b[38;5;241m.\u001b[39mappend(i)\n\u001b[1;32m      6\u001b[0m     \u001b[38;5;28;01mreturn\u001b[39;00m divisors\n\u001b[0;32m----> 8\u001b[0m \u001b[43mdivisors\u001b[49m\u001b[43m(\u001b[49m\u001b[38;5;241;43m-\u001b[39;49m\u001b[38;5;241;43m10\u001b[39;49m\u001b[43m)\u001b[49m\n",
      "Cell \u001b[0;32mIn[3], line 2\u001b[0m, in \u001b[0;36mdivisors\u001b[0;34m(n)\u001b[0m\n\u001b[1;32m      1\u001b[0m \u001b[38;5;28;01mdef\u001b[39;00m \u001b[38;5;21mdivisors\u001b[39m(n):\n\u001b[0;32m----> 2\u001b[0m     \u001b[38;5;28;01massert\u001b[39;00m \u001b[38;5;28mtype\u001b[39m(n)\u001b[38;5;241m==\u001b[39m\u001b[38;5;28mint\u001b[39m \u001b[38;5;129;01mand\u001b[39;00m n\u001b[38;5;241m>\u001b[39m\u001b[38;5;241m0\u001b[39m, \u001b[38;5;124m\"\u001b[39m\u001b[38;5;124mn debe ser de tipo int y debe ser mayor que 0\u001b[39m\u001b[38;5;124m\"\u001b[39m\n\u001b[1;32m      3\u001b[0m     divisors \u001b[38;5;241m=\u001b[39m []\n\u001b[1;32m      4\u001b[0m     \u001b[38;5;28;01mfor\u001b[39;00m i \u001b[38;5;129;01min\u001b[39;00m \u001b[38;5;28mrange\u001b[39m(\u001b[38;5;241m1\u001b[39m, n \u001b[38;5;241m+\u001b[39m \u001b[38;5;241m1\u001b[39m):\n",
      "\u001b[0;31mAssertionError\u001b[0m: n debe ser de tipo int y debe ser mayor que 0"
     ]
    }
   ],
   "source": [
    "def divisors(n):\n",
    "    assert type(n)==int and n>0, \"n debe ser de tipo int y debe ser mayor que 0\"\n",
    "    divisors = []\n",
    "    for i in range(1, n + 1):\n",
    "        if n % i == 0: divisors.append(i)\n",
    "    return divisors\n",
    "\n",
    "divisors(-10)"
   ]
  },
  {
   "cell_type": "markdown",
   "id": "feb0417e",
   "metadata": {},
   "source": [
    "## EJERCICIO 2"
   ]
  },
  {
   "attachments": {},
   "cell_type": "markdown",
   "id": "91cd8f7c",
   "metadata": {},
   "source": [
    "Dada la función divisors(), muestra TypeError con el mensaje correspondiente si el parámetro n no se trata de un número entero y muestra ValueError con el mensaje correspondiente si n no se trata de un número positivo.\n",
    "\n",
    "```\n",
    "def divisors(n):\n",
    "    \"\"\"\n",
    "    Calcula los divisores de un número entero positivo.\n",
    "    Args:\n",
    "        n: Número entero positive\n",
    "    Returns:\n",
    "        divisors: Lista de divisores de n\n",
    "    \"\"\"\"\n",
    "    divisors = []\n",
    "    for i in range(1, n + 1):\n",
    "        if n % i == 0: divisors.append(i)\n",
    "             return divisors\n",
    "```"
   ]
  },
  {
   "cell_type": "code",
   "execution_count": 12,
   "id": "a2d08eca",
   "metadata": {},
   "outputs": [
    {
     "ename": "ValueError",
     "evalue": "n debe ser positivo",
     "output_type": "error",
     "traceback": [
      "\u001b[0;31m---------------------------------------------------------------------------\u001b[0m",
      "\u001b[0;31mValueError\u001b[0m                                Traceback (most recent call last)",
      "Cell \u001b[0;32mIn[12], line 11\u001b[0m\n\u001b[1;32m      8\u001b[0m         \u001b[38;5;28;01mif\u001b[39;00m n \u001b[38;5;241m%\u001b[39m i \u001b[38;5;241m==\u001b[39m \u001b[38;5;241m0\u001b[39m: divisors\u001b[38;5;241m.\u001b[39mappend(i)\n\u001b[1;32m      9\u001b[0m     \u001b[38;5;28;01mreturn\u001b[39;00m divisors\n\u001b[0;32m---> 11\u001b[0m \u001b[43mdivisors\u001b[49m\u001b[43m(\u001b[49m\u001b[38;5;241;43m-\u001b[39;49m\u001b[38;5;241;43m100\u001b[39;49m\u001b[43m)\u001b[49m\n",
      "Cell \u001b[0;32mIn[12], line 5\u001b[0m, in \u001b[0;36mdivisors\u001b[0;34m(n)\u001b[0m\n\u001b[1;32m      3\u001b[0m     \u001b[38;5;28;01mraise\u001b[39;00m \u001b[38;5;167;01mTypeError\u001b[39;00m(\u001b[38;5;124m\"\u001b[39m\u001b[38;5;124mn debe ser entero\u001b[39m\u001b[38;5;124m\"\u001b[39m)\n\u001b[1;32m      4\u001b[0m \u001b[38;5;28;01mif\u001b[39;00m n\u001b[38;5;241m<\u001b[39m\u001b[38;5;241m0\u001b[39m:\n\u001b[0;32m----> 5\u001b[0m     \u001b[38;5;28;01mraise\u001b[39;00m \u001b[38;5;167;01mValueError\u001b[39;00m(\u001b[38;5;124m\"\u001b[39m\u001b[38;5;124mn debe ser positivo\u001b[39m\u001b[38;5;124m\"\u001b[39m)\n\u001b[1;32m      6\u001b[0m divisors \u001b[38;5;241m=\u001b[39m []\n\u001b[1;32m      7\u001b[0m \u001b[38;5;28;01mfor\u001b[39;00m i \u001b[38;5;129;01min\u001b[39;00m \u001b[38;5;28mrange\u001b[39m(\u001b[38;5;241m1\u001b[39m, n \u001b[38;5;241m+\u001b[39m \u001b[38;5;241m1\u001b[39m):\n",
      "\u001b[0;31mValueError\u001b[0m: n debe ser positivo"
     ]
    }
   ],
   "source": [
    "def divisors(n):\n",
    "    if type(n)!=int :\n",
    "        raise TypeError(\"n debe ser entero\")\n",
    "    if n<0:\n",
    "        raise ValueError(\"n debe ser positivo\")\n",
    "    divisors = []\n",
    "    for i in range(1, n + 1):\n",
    "        if n % i == 0: divisors.append(i)\n",
    "    return divisors\n",
    "\n",
    "divisors(-100)\n"
   ]
  },
  {
   "cell_type": "markdown",
   "id": "abf81a65",
   "metadata": {},
   "source": [
    "## EJERCICIO 3"
   ]
  },
  {
   "attachments": {},
   "cell_type": "markdown",
   "id": "c0dda757",
   "metadata": {},
   "source": [
    "Dada la función is_palindrome(), asegura con assert que el parámetro word se trata de una variable de tipo string. De lo contrario, muestra como mensaje que \"word debe ser de tipo string\".\n",
    "\n",
    "```\n",
    "def is_palindrome(word):\n",
    "    \"\"\"\n",
    "    Devuelve si la palabra word es palíndroma.\n",
    "    Args:\n",
    "        word: Palabra\n",
    "    Returns:\n",
    "        isPalindrome: Booleano\n",
    "    \"\"\"\n",
    "    word = word.lower()\n",
    "    l = []\n",
    "    isPalindrome = True\n",
    "    for c in word: \n",
    "        l.append(c)\n",
    "        n = len(l)\n",
    "    for i in range(int(n / 2)):\n",
    "        if l[i] != l[n - (i + 1)]: \n",
    "            isPalindrome = False\n",
    "     return isPalindrome\n",
    "```"
   ]
  },
  {
   "cell_type": "code",
   "execution_count": 13,
   "id": "df9d019c",
   "metadata": {},
   "outputs": [
    {
     "ename": "AssertionError",
     "evalue": "word debe ser de tipo string",
     "output_type": "error",
     "traceback": [
      "\u001b[0;31m---------------------------------------------------------------------------\u001b[0m",
      "\u001b[0;31mAssertionError\u001b[0m                            Traceback (most recent call last)",
      "Cell \u001b[0;32mIn[13], line 14\u001b[0m\n\u001b[1;32m     11\u001b[0m             isPalindrome \u001b[38;5;241m=\u001b[39m \u001b[38;5;28;01mFalse\u001b[39;00m\n\u001b[1;32m     12\u001b[0m     \u001b[38;5;28;01mreturn\u001b[39;00m isPalindrome\n\u001b[0;32m---> 14\u001b[0m \u001b[43mis_palindrome\u001b[49m\u001b[43m(\u001b[49m\u001b[38;5;241;43m5\u001b[39;49m\u001b[43m)\u001b[49m\n",
      "Cell \u001b[0;32mIn[13], line 2\u001b[0m, in \u001b[0;36mis_palindrome\u001b[0;34m(word)\u001b[0m\n\u001b[1;32m      1\u001b[0m \u001b[38;5;28;01mdef\u001b[39;00m \u001b[38;5;21mis_palindrome\u001b[39m(word):\n\u001b[0;32m----> 2\u001b[0m     \u001b[38;5;28;01massert\u001b[39;00m \u001b[38;5;28mtype\u001b[39m(word)\u001b[38;5;241m==\u001b[39m\u001b[38;5;28mstr\u001b[39m, \u001b[38;5;124m\"\u001b[39m\u001b[38;5;124mword debe ser de tipo string\u001b[39m\u001b[38;5;124m\"\u001b[39m\n\u001b[1;32m      3\u001b[0m     word \u001b[38;5;241m=\u001b[39m word\u001b[38;5;241m.\u001b[39mlower()\n\u001b[1;32m      4\u001b[0m     l \u001b[38;5;241m=\u001b[39m []\n",
      "\u001b[0;31mAssertionError\u001b[0m: word debe ser de tipo string"
     ]
    }
   ],
   "source": [
    "def is_palindrome(word):\n",
    "    assert type(word)==str, \"word debe ser de tipo string\"\n",
    "    word = word.lower()\n",
    "    l = []\n",
    "    isPalindrome = True\n",
    "    for c in word:\n",
    "        l.append(c)\n",
    "        n = len(l)\n",
    "    for i in range(int(n / 2)):\n",
    "        if l[i] != l[n - (i + 1)]: \n",
    "            isPalindrome = False\n",
    "    return isPalindrome\n",
    "\n",
    "is_palindrome(5)"
   ]
  },
  {
   "cell_type": "markdown",
   "id": "4d68e82b",
   "metadata": {},
   "source": [
    "## EJERCICIO 4"
   ]
  },
  {
   "attachments": {},
   "cell_type": "markdown",
   "id": "ec7f3b2a",
   "metadata": {},
   "source": [
    "Dada la función is_palindrome(), muestra TypeError con el mensaje correspondiente si word no se trata de una variable de tipo string.\n",
    "```\n",
    "def is_palindrome(word):\n",
    "    \"\"\"\n",
    "    Devuelve si la palabra word es palíndroma.\n",
    "    Args:\n",
    "        word: Palabra\n",
    "    Returns:\n",
    "        isPalindrome: Booleano\n",
    "    \"\"\"\n",
    "    word = word.lower()\n",
    "    l = []\n",
    "    isPalindrome = True\n",
    "    for c in word: \n",
    "        l.append(c)\n",
    "        n = len(l)\n",
    "    for i in range(int(n / 2)):\n",
    "        if l[i] != l[n - (i + 1)]: \n",
    "            isPalindrome = False\n",
    "     return isPalindrome\n",
    "```"
   ]
  },
  {
   "cell_type": "code",
   "execution_count": 14,
   "id": "738a88a3",
   "metadata": {},
   "outputs": [
    {
     "ename": "TypeError",
     "evalue": "word debe ser de tipo string",
     "output_type": "error",
     "traceback": [
      "\u001b[0;31m---------------------------------------------------------------------------\u001b[0m",
      "\u001b[0;31mTypeError\u001b[0m                                 Traceback (most recent call last)",
      "Cell \u001b[0;32mIn[14], line 15\u001b[0m\n\u001b[1;32m     12\u001b[0m             isPalindrome \u001b[38;5;241m=\u001b[39m \u001b[38;5;28;01mFalse\u001b[39;00m\n\u001b[1;32m     13\u001b[0m     \u001b[38;5;28;01mreturn\u001b[39;00m isPalindrome\n\u001b[0;32m---> 15\u001b[0m \u001b[43mis_palindrome\u001b[49m\u001b[43m(\u001b[49m\u001b[38;5;241;43m5\u001b[39;49m\u001b[43m)\u001b[49m\n",
      "Cell \u001b[0;32mIn[14], line 3\u001b[0m, in \u001b[0;36mis_palindrome\u001b[0;34m(word)\u001b[0m\n\u001b[1;32m      1\u001b[0m \u001b[38;5;28;01mdef\u001b[39;00m \u001b[38;5;21mis_palindrome\u001b[39m(word):\n\u001b[1;32m      2\u001b[0m     \u001b[38;5;28;01mif\u001b[39;00m \u001b[38;5;28mtype\u001b[39m(word)\u001b[38;5;241m!=\u001b[39m\u001b[38;5;28mstr\u001b[39m:\n\u001b[0;32m----> 3\u001b[0m         \u001b[38;5;28;01mraise\u001b[39;00m \u001b[38;5;167;01mTypeError\u001b[39;00m(\u001b[38;5;124m\"\u001b[39m\u001b[38;5;124mword debe ser de tipo string\u001b[39m\u001b[38;5;124m\"\u001b[39m)\n\u001b[1;32m      4\u001b[0m     word \u001b[38;5;241m=\u001b[39m word\u001b[38;5;241m.\u001b[39mlower()\n\u001b[1;32m      5\u001b[0m     l \u001b[38;5;241m=\u001b[39m []\n",
      "\u001b[0;31mTypeError\u001b[0m: word debe ser de tipo string"
     ]
    }
   ],
   "source": [
    "def is_palindrome(word):\n",
    "    if type(word)!=str:\n",
    "        raise TypeError(\"word debe ser de tipo string\")\n",
    "    word = word.lower()\n",
    "    l = []\n",
    "    isPalindrome = True\n",
    "    for c in word:\n",
    "        l.append(c)\n",
    "    n = len(l)\n",
    "    for i in range(int(n / 2)):\n",
    "        if l[i] != l[n - (i + 1)]: \n",
    "            isPalindrome = False\n",
    "    return isPalindrome\n",
    "\n",
    "is_palindrome(5)"
   ]
  },
  {
   "cell_type": "markdown",
   "id": "5c943554",
   "metadata": {},
   "source": [
    "## EJERCICIO 5"
   ]
  },
  {
   "attachments": {},
   "cell_type": "markdown",
   "id": "f2fe60bc",
   "metadata": {},
   "source": [
    "Dada la función is_palindrome(), muestra ValueError con el mensaje correspondiente si word no se trata de una palabra. Es decir, si una vez ha pasado la comprobación de ser una variable de tipo string, comprueba que no tiene espacios.\n",
    "\n",
    "```\n",
    "def is_palindrome(word):\n",
    "    \"\"\"\n",
    "    Devuelve si la palabra word es palíndroma.\n",
    "    Args:\n",
    "        word: Palabra\n",
    "    Returns:\n",
    "        isPalindrome: Booleano\n",
    "    \"\"\"\n",
    "    word = word.lower()\n",
    "    l = []\n",
    "    isPalindrome = True\n",
    "    for c in word: \n",
    "        l.append(c)\n",
    "        n = len(l)\n",
    "    for i in range(int(n / 2)):\n",
    "        if l[i] != l[n - (i + 1)]: \n",
    "            isPalindrome = False\n",
    "     return isPalindrome\n",
    "```"
   ]
  },
  {
   "cell_type": "code",
   "execution_count": 16,
   "id": "6e94d63d",
   "metadata": {},
   "outputs": [
    {
     "ename": "ValueError",
     "evalue": "no es una palabra",
     "output_type": "error",
     "traceback": [
      "\u001b[0;31m---------------------------------------------------------------------------\u001b[0m",
      "\u001b[0;31mValueError\u001b[0m                                Traceback (most recent call last)",
      "Cell \u001b[0;32mIn[16], line 17\u001b[0m\n\u001b[1;32m     14\u001b[0m             isPalindrome \u001b[38;5;241m=\u001b[39m \u001b[38;5;28;01mFalse\u001b[39;00m\n\u001b[1;32m     15\u001b[0m     \u001b[38;5;28;01mreturn\u001b[39;00m isPalindrome\n\u001b[0;32m---> 17\u001b[0m \u001b[43mis_palindrome\u001b[49m\u001b[43m(\u001b[49m\u001b[38;5;124;43m\"\u001b[39;49m\u001b[38;5;124;43m \u001b[39;49m\u001b[38;5;124;43m\"\u001b[39;49m\u001b[43m)\u001b[49m\n",
      "Cell \u001b[0;32mIn[16], line 5\u001b[0m, in \u001b[0;36mis_palindrome\u001b[0;34m(word)\u001b[0m\n\u001b[1;32m      3\u001b[0m     \u001b[38;5;28;01mraise\u001b[39;00m \u001b[38;5;167;01mTypeError\u001b[39;00m(\u001b[38;5;124m\"\u001b[39m\u001b[38;5;124mword debe ser de tipo string\u001b[39m\u001b[38;5;124m\"\u001b[39m)\n\u001b[1;32m      4\u001b[0m \u001b[38;5;28;01mif\u001b[39;00m \u001b[38;5;124m\"\u001b[39m\u001b[38;5;124m \u001b[39m\u001b[38;5;124m\"\u001b[39m \u001b[38;5;129;01min\u001b[39;00m word:\n\u001b[0;32m----> 5\u001b[0m     \u001b[38;5;28;01mraise\u001b[39;00m \u001b[38;5;167;01mValueError\u001b[39;00m(\u001b[38;5;124m\"\u001b[39m\u001b[38;5;124mno es una palabra\u001b[39m\u001b[38;5;124m\"\u001b[39m)\n\u001b[1;32m      6\u001b[0m word \u001b[38;5;241m=\u001b[39m word\u001b[38;5;241m.\u001b[39mlower()\n\u001b[1;32m      7\u001b[0m l \u001b[38;5;241m=\u001b[39m []\n",
      "\u001b[0;31mValueError\u001b[0m: no es una palabra"
     ]
    }
   ],
   "source": [
    "def is_palindrome(word):\n",
    "    if type(word)!=str:\n",
    "        raise TypeError(\"word debe ser de tipo string\")\n",
    "    if \" \" in word:\n",
    "        raise ValueError(\"no es una palabra\")\n",
    "    word = word.lower()\n",
    "    l = []\n",
    "    isPalindrome = True\n",
    "    for c in word:\n",
    "        l.append(c)\n",
    "    n = len(l)\n",
    "    for i in range(int(n / 2)):\n",
    "        if l[i] != l[n - (i + 1)]: \n",
    "            isPalindrome = False\n",
    "    return isPalindrome\n",
    "\n",
    "is_palindrome(\" \")"
   ]
  },
  {
   "cell_type": "markdown",
   "id": "2972dd7e",
   "metadata": {},
   "source": [
    "## EJERCICIO 6"
   ]
  },
  {
   "attachments": {},
   "cell_type": "markdown",
   "id": "ef3c12ce",
   "metadata": {},
   "source": [
    "Utiliza try / except para dado un objeto de Python guardarlo en la variable x, aplicarle el método .index() y localizar el elemento \"c\". En el bloque try, guarda el resultado en la variable result. En el bloque except, en la variable result, si el objeto x es una lista, guarda el mensaje \"La lista no tiene el elemento 'c'\". En caso contrario, guarda el mensaje \"El objeto {tipo del objeto que sea x} no tiene el método .index()\". Finalmente, imprime por pantalla el resultado."
   ]
  },
  {
   "cell_type": "code",
   "execution_count": 19,
   "id": "94962662",
   "metadata": {},
   "outputs": [
    {
     "name": "stdout",
     "output_type": "stream",
     "text": [
      "La lista no tiene el elemento 'c' \n"
     ]
    }
   ],
   "source": [
    "#x = [\"a\", \"b\", \"c\"]\n",
    "#x=\"asdfas\"\n",
    "x = [\"a\", \"b\", \"d\"]\n",
    "try:\n",
    "    result = x.index(\"c\")\n",
    "except:\n",
    "    if type(x) == list:\n",
    "        result = \"La lista no tiene el elemento 'c' \"\n",
    "    else:\n",
    "        result = \"El objeto {} no tiene el método .index()\".format(type(x).__name__)\n",
    "print(result)\n"
   ]
  },
  {
   "cell_type": "markdown",
   "id": "cbbfb36c",
   "metadata": {},
   "source": [
    "## EJERCICIO 7"
   ]
  },
  {
   "attachments": {},
   "cell_type": "markdown",
   "id": "f0211a75",
   "metadata": {},
   "source": [
    "Crea una función que calcule el área de un cuadrado. Como parámetro se recibirá un número real, correspondiente a la longitud de la base. Lanza las excepciones pertinentes siempre que el parámetro no se trate de un número real o entero positivo."
   ]
  },
  {
   "cell_type": "code",
   "execution_count": 20,
   "id": "1dbedf15",
   "metadata": {},
   "outputs": [
    {
     "ename": "TypeError",
     "evalue": "la base tiene que ser entera o decimal",
     "output_type": "error",
     "traceback": [
      "\u001b[0;31m---------------------------------------------------------------------------\u001b[0m",
      "\u001b[0;31mTypeError\u001b[0m                                 Traceback (most recent call last)",
      "Cell \u001b[0;32mIn[20], line 8\u001b[0m\n\u001b[1;32m      5\u001b[0m         \u001b[38;5;28;01mraise\u001b[39;00m \u001b[38;5;167;01mValueError\u001b[39;00m(\u001b[38;5;124m\"\u001b[39m\u001b[38;5;124mLa base tiene que ser positiva\u001b[39m\u001b[38;5;124m\"\u001b[39m)\n\u001b[1;32m      6\u001b[0m     \u001b[38;5;28;01mreturn\u001b[39;00m base\u001b[38;5;241m*\u001b[39m\u001b[38;5;241m*\u001b[39m\u001b[38;5;241m2\u001b[39m\n\u001b[0;32m----> 8\u001b[0m \u001b[43marea_cuadrado\u001b[49m\u001b[43m(\u001b[49m\u001b[38;5;124;43m\"\u001b[39;49m\u001b[38;5;124;43ma\u001b[39;49m\u001b[38;5;124;43m\"\u001b[39;49m\u001b[43m)\u001b[49m\n",
      "Cell \u001b[0;32mIn[20], line 3\u001b[0m, in \u001b[0;36marea_cuadrado\u001b[0;34m(base)\u001b[0m\n\u001b[1;32m      1\u001b[0m \u001b[38;5;28;01mdef\u001b[39;00m \u001b[38;5;21marea_cuadrado\u001b[39m(base):\n\u001b[1;32m      2\u001b[0m     \u001b[38;5;28;01mif\u001b[39;00m  \u001b[38;5;28mtype\u001b[39m(base) \u001b[38;5;241m!=\u001b[39m \u001b[38;5;28mfloat\u001b[39m \u001b[38;5;129;01mand\u001b[39;00m \u001b[38;5;28mtype\u001b[39m(base) \u001b[38;5;241m!=\u001b[39m\u001b[38;5;28mint\u001b[39m:\n\u001b[0;32m----> 3\u001b[0m         \u001b[38;5;28;01mraise\u001b[39;00m \u001b[38;5;167;01mTypeError\u001b[39;00m(\u001b[38;5;124m\"\u001b[39m\u001b[38;5;124mla base tiene que ser entera o decimal\u001b[39m\u001b[38;5;124m\"\u001b[39m)\n\u001b[1;32m      4\u001b[0m     \u001b[38;5;28;01mif\u001b[39;00m base \u001b[38;5;241m<\u001b[39m \u001b[38;5;241m0\u001b[39m:\n\u001b[1;32m      5\u001b[0m         \u001b[38;5;28;01mraise\u001b[39;00m \u001b[38;5;167;01mValueError\u001b[39;00m(\u001b[38;5;124m\"\u001b[39m\u001b[38;5;124mLa base tiene que ser positiva\u001b[39m\u001b[38;5;124m\"\u001b[39m)\n",
      "\u001b[0;31mTypeError\u001b[0m: la base tiene que ser entera o decimal"
     ]
    }
   ],
   "source": [
    "def area_cuadrado(base):\n",
    "    if  type(base) != float and type(base) !=int:\n",
    "        raise TypeError(\"la base tiene que ser entera o decimal\")\n",
    "    if base < 0:\n",
    "        raise ValueError(\"La base tiene que ser positiva\")\n",
    "    return base**2\n",
    "\n",
    "area_cuadrado(\"a\")"
   ]
  },
  {
   "cell_type": "markdown",
   "id": "59397f22",
   "metadata": {},
   "source": [
    "## EJERCICIO 8"
   ]
  },
  {
   "attachments": {},
   "cell_type": "markdown",
   "id": "8272bcdf",
   "metadata": {},
   "source": [
    "Crea una función que solicite al usuario la edad. Lanza una excepción en caso de que no se trate de una edad válida. Se considera edad no válida una edad negativa o mayor a 150. En cada caso, lanza el mensaje correspondiente."
   ]
  },
  {
   "cell_type": "code",
   "execution_count": 21,
   "id": "4ae4ddf2",
   "metadata": {},
   "outputs": [
    {
     "name": "stdout",
     "output_type": "stream",
     "text": [
      "Introduce tu edad: -5\n"
     ]
    },
    {
     "ename": "ValueError",
     "evalue": "Tu edad no puede ser negativa",
     "output_type": "error",
     "traceback": [
      "\u001b[0;31m---------------------------------------------------------------------------\u001b[0m",
      "\u001b[0;31mValueError\u001b[0m                                Traceback (most recent call last)",
      "Cell \u001b[0;32mIn[21], line 9\u001b[0m\n\u001b[1;32m      6\u001b[0m         \u001b[38;5;28;01mraise\u001b[39;00m \u001b[38;5;167;01mValueError\u001b[39;00m(\u001b[38;5;124m\"\u001b[39m\u001b[38;5;124mNo puedes ser tan mayor\u001b[39m\u001b[38;5;124m\"\u001b[39m)\n\u001b[1;32m      7\u001b[0m     \u001b[38;5;28;01mreturn\u001b[39;00m edad\n\u001b[0;32m----> 9\u001b[0m \u001b[43medad_us\u001b[49m\u001b[43m(\u001b[49m\u001b[43m)\u001b[49m\n",
      "Cell \u001b[0;32mIn[21], line 4\u001b[0m, in \u001b[0;36medad_us\u001b[0;34m()\u001b[0m\n\u001b[1;32m      2\u001b[0m edad \u001b[38;5;241m=\u001b[39m \u001b[38;5;28mint\u001b[39m(\u001b[38;5;28minput\u001b[39m(\u001b[38;5;124m\"\u001b[39m\u001b[38;5;124mIntroduce tu edad: \u001b[39m\u001b[38;5;124m\"\u001b[39m))\n\u001b[1;32m      3\u001b[0m \u001b[38;5;28;01mif\u001b[39;00m edad \u001b[38;5;241m<\u001b[39m \u001b[38;5;241m0\u001b[39m :\n\u001b[0;32m----> 4\u001b[0m     \u001b[38;5;28;01mraise\u001b[39;00m \u001b[38;5;167;01mValueError\u001b[39;00m(\u001b[38;5;124m\"\u001b[39m\u001b[38;5;124mTu edad no puede ser negativa\u001b[39m\u001b[38;5;124m\"\u001b[39m)\n\u001b[1;32m      5\u001b[0m \u001b[38;5;28;01mif\u001b[39;00m edad \u001b[38;5;241m>\u001b[39m \u001b[38;5;241m150\u001b[39m :\n\u001b[1;32m      6\u001b[0m     \u001b[38;5;28;01mraise\u001b[39;00m \u001b[38;5;167;01mValueError\u001b[39;00m(\u001b[38;5;124m\"\u001b[39m\u001b[38;5;124mNo puedes ser tan mayor\u001b[39m\u001b[38;5;124m\"\u001b[39m)\n",
      "\u001b[0;31mValueError\u001b[0m: Tu edad no puede ser negativa"
     ]
    }
   ],
   "source": [
    "def edad_us():\n",
    "    edad = int(input(\"Introduce tu edad: \"))\n",
    "    if edad < 0 :\n",
    "        raise ValueError(\"Tu edad no puede ser negativa\")\n",
    "    if edad > 150 :\n",
    "        raise ValueError(\"No puedes ser tan mayor\")\n",
    "    return edad\n",
    "\n",
    "edad_us()"
   ]
  },
  {
   "cell_type": "markdown",
   "id": "3e767176",
   "metadata": {},
   "source": [
    "## EJERCICIO 9"
   ]
  },
  {
   "attachments": {},
   "cell_type": "markdown",
   "id": "9da406b8",
   "metadata": {},
   "source": [
    "Crea una función que solicite al usuario una letra en mayúscula. Lanza una excepción en caso de que el usuario no haya introducido nada, no haya introducido una letra, no haya introducido una letra mayúscula o no haya introducido solamente un carácter. La función tiene que capturar todas las excepciones ocurridas y mostrar el mensaje de la excepción (sólo el mensaje, para que el usuario vea lo que ha pasado pero no tenga información que no le dice nada)."
   ]
  },
  {
   "cell_type": "code",
   "execution_count": 24,
   "id": "fe94cb7b",
   "metadata": {},
   "outputs": [
    {
     "name": "stdout",
     "output_type": "stream",
     "text": [
      "Introduce una mayúscula: ac\n",
      "Sólo tienes que introducir una letra\n"
     ]
    }
   ],
   "source": [
    "def letraMayuscula():\n",
    "    try:\n",
    "        letra = input(\"Introduce una mayúscula: \")\n",
    "        if len(letra) > 1:\n",
    "            raise ValueError(\"Sólo tienes que introducir una letra\")\n",
    "        elif len(letra) == 0:\n",
    "            raise ValueError(\"No has introducido nada\")\n",
    "        else:\n",
    "            if not letra.isalpha():\n",
    "                raise ValueError(\"No has introducido una letra\")\n",
    "            else:\n",
    "                if not letra.isupper():\n",
    "                    raise ValueError(\"La letra tiene que ser mayúscula\")\n",
    "        print(letra)\n",
    "    except Exception as e:\n",
    "        print(e)\n",
    "\n",
    "letraMayuscula()\n"
   ]
  }
 ],
 "metadata": {
  "kernelspec": {
   "display_name": "Python 3 (ipykernel)",
   "language": "python",
   "name": "python3"
  },
  "language_info": {
   "codemirror_mode": {
    "name": "ipython",
    "version": 3
   },
   "file_extension": ".py",
   "mimetype": "text/x-python",
   "name": "python",
   "nbconvert_exporter": "python",
   "pygments_lexer": "ipython3",
   "version": "3.10.9"
  }
 },
 "nbformat": 4,
 "nbformat_minor": 5
}
