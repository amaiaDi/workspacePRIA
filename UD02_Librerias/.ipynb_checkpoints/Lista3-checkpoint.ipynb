{
 "cells": [
  {
   "cell_type": "markdown",
   "id": "d287d88e",
   "metadata": {},
   "source": [
    "# LISTA 3 - FUNCIONES"
   ]
  },
  {
   "cell_type": "markdown",
   "id": "f99190d1",
   "metadata": {},
   "source": [
    "## EJERCICIO 1"
   ]
  },
  {
   "attachments": {},
   "cell_type": "markdown",
   "id": "b3836703",
   "metadata": {},
   "source": [
    "Crea una función que devuelva la lista de todos los divisores de un número entero positivo pasado por parámetro (hay que comprobar el dato sea correcto)."
   ]
  },
  {
   "cell_type": "code",
   "execution_count": null,
   "id": "10d5b17a",
   "metadata": {},
   "outputs": [],
   "source": [
    "def divisores(x):\n",
    "    divisores=[]\n",
    "    if type(x)==type(0) and x>=0:\n",
    "        for i in range(1,x//2+1):\n",
    "            if x%i==0:\n",
    "                divisores.append(i)\n",
    "        return divisores\n",
    "    else:\n",
    "        print(\"El número no es adecuado\")\n",
    "lista_divisores=divisores(100)\n",
    "print(lista_divisores)"
   ]
  },
  {
   "cell_type": "markdown",
   "id": "feb0417e",
   "metadata": {},
   "source": [
    "## EJERCICIO 2"
   ]
  },
  {
   "attachments": {},
   "cell_type": "markdown",
   "id": "91cd8f7c",
   "metadata": {},
   "source": [
    "Crea una función que devuelva True si el carácter introducido por parámetro se trata de una vocal y False en caso contrario."
   ]
  },
  {
   "cell_type": "code",
   "execution_count": null,
   "id": "a2d08eca",
   "metadata": {},
   "outputs": [],
   "source": [
    "def esVocal(l):\n",
    "    if len(l)==1:\n",
    "        if l in \"aeiou\":\n",
    "            return True\n",
    "        else:\n",
    "            return False\n",
    "    else:\n",
    "        print(\"No es una letra\")\n",
    "        return False\n",
    "resultado=esVocal(\"a\")\n",
    "print(resultado)\n",
    "resultado=esVocal(\"z\")\n",
    "print(resultado)"
   ]
  },
  {
   "cell_type": "markdown",
   "id": "abf81a65",
   "metadata": {},
   "source": [
    "## EJERCICIO 3"
   ]
  },
  {
   "attachments": {},
   "cell_type": "markdown",
   "id": "c0dda757",
   "metadata": {},
   "source": [
    "Crea una función que dado un color en hexadecimal devuelva una lista de 3 posiciones, cada una de ellas correspondiente al valor R, G y B en este orden. Los valores de RGB varían entre 0 y 255."
   ]
  },
  {
   "cell_type": "code",
   "execution_count": null,
   "id": "df9d019c",
   "metadata": {},
   "outputs": [],
   "source": [
    "def colorHexToRGB(colorHex):\n",
    "    colorHex=colorHex.upper()\n",
    "    if len(colorHex)==6:\n",
    "        r=colorHex[:2]\n",
    "        r=int(r, 16)\n",
    "        g=colorHex[2:4]\n",
    "        g= int(g, 16)\n",
    "        b=colorHex[4:]\n",
    "        b= int(b, 16)\n",
    "        return [r,g,b]\n",
    "    else:\n",
    "        print(\"El color no es correcto\")\n",
    "        return -1\n",
    "\n",
    "resultado=colorHexToRGB(\"FFFFFF\")\n",
    "print(resultado)\n",
    "resultado=colorHexToRGB(\"0BA334\")\n",
    "print(resultado)\n",
    "resultado=colorHexToRGB(\"000000\")\n",
    "print(resultado)"
   ]
  },
  {
   "cell_type": "markdown",
   "id": "4d68e82b",
   "metadata": {},
   "source": [
    "## EJERCICIO 4"
   ]
  },
  {
   "attachments": {},
   "cell_type": "markdown",
   "id": "ec7f3b2a",
   "metadata": {},
   "source": [
    "Crea una función que dado un string por parámetro cuente cuántas veces sale cada carácter en dicho string y devuelva toda esa información en un diccionario."
   ]
  },
  {
   "cell_type": "code",
   "execution_count": null,
   "id": "738a88a3",
   "metadata": {},
   "outputs": [],
   "source": [
    "def contarCaracteres(frase):\n",
    "    frase=frase.lower()\n",
    "    contador={}\n",
    "    for c in frase:\n",
    "        if c not in contador.keys():\n",
    "            contador[c]=frase.count(c)\n",
    "    return contador\n",
    "\n",
    "frase=\"Frase para probar la funcion contarCaracteres\"\n",
    "print(contarCaracteres(frase))"
   ]
  },
  {
   "cell_type": "markdown",
   "id": "5c943554",
   "metadata": {},
   "source": [
    "## EJERCICIO 5"
   ]
  },
  {
   "attachments": {},
   "cell_type": "markdown",
   "id": "13d2c744",
   "metadata": {},
   "source": [
    "Crea una función lambda que dado un número entero multiplique por su anterior y su siguiente. Por ejemplo, si proporcionamos n = 3, nos tendrá que devolver 2 x 3 x 4 = 24."
   ]
  },
  {
   "cell_type": "code",
   "execution_count": 1,
   "id": "6e71e599",
   "metadata": {},
   "outputs": [
    {
     "name": "stdout",
     "output_type": "stream",
     "text": [
      "Introduce la dimensión de la matriz: 3\n",
      "[0, 1, 2]\n",
      "[3, 4, 5]\n",
      "[6, 7, 8]\n"
     ]
    }
   ],
   "source": [
    "productoEspecial=lambda n: n*(n+1)*(n-1)\n",
    "print(productoEspecial(3))\n"
   ]
  },
  {
   "cell_type": "markdown",
   "id": "2972dd7e",
   "metadata": {},
   "source": [
    "## EJERCICIO 6"
   ]
  },
  {
   "attachments": {},
   "cell_type": "markdown",
   "id": "ef3c12ce",
   "metadata": {},
   "source": [
    "Crea una función lambda que dados dos números devuelva si el primero es mayor."
   ]
  },
  {
   "cell_type": "code",
   "execution_count": null,
   "id": "94962662",
   "metadata": {},
   "outputs": [],
   "source": [
    "primeroMayor=lambda x,y: x>y\n",
    "print(primeroMayor(3,7))"
   ]
  },
  {
   "cell_type": "markdown",
   "id": "cbbfb36c",
   "metadata": {},
   "source": [
    "## EJERCICIO 7"
   ]
  },
  {
   "attachments": {},
   "cell_type": "markdown",
   "id": "f0211a75",
   "metadata": {},
   "source": [
    "Dada una lista de palabras, quédate con filter() con las que tengan más vocales que consonantes. Necesitarás una función que devuelva si una palabra tiene más vocales que consonantes."
   ]
  },
  {
   "cell_type": "code",
   "execution_count": null,
   "id": "1dbedf15",
   "metadata": {},
   "outputs": [],
   "source": [
    "def masVocales(word):\n",
    "    word.lower()\n",
    "    numVocales=0\n",
    "    numConsonantes=0\n",
    "    for c in word:\n",
    "        if c in \"aeiou\":\n",
    "            numVocales+=1\n",
    "        elif c in \"bcdfghjklmnñpqrstvwxyz\":\n",
    "            numConsonantes+=1\n",
    "    return numVocales >numConsonantes\n",
    "\n",
    "palabras=[\"prueba\",\"semáforo\",\"que\",\"ejemplo\",\"papelera\",\"tiene\"]\n",
    "print(list(filte(masVocales,palabras)))\n"
   ]
  },
  {
   "cell_type": "markdown",
   "id": "59397f22",
   "metadata": {},
   "source": [
    "## EJERCICIO 8"
   ]
  },
  {
   "attachments": {},
   "cell_type": "markdown",
   "id": "8272bcdf",
   "metadata": {},
   "source": [
    "Dada una lista de números enteros, quédate con filter() con los que tengan más de 5 divisores. Necesitarás una función que devuelva el número de divisores de un número dado."
   ]
  },
  {
   "cell_type": "code",
   "execution_count": null,
   "id": "4ae4ddf2",
   "metadata": {},
   "outputs": [],
   "source": [
    "def numDivisores(n):\n",
    "    contador=0\n",
    "    for i in range(1,n//2+1):\n",
    "        if n%i==0:\n",
    "            contador+=1\n",
    "    return contador\n",
    "\n",
    "numeros=[170,3,17,20,100,45]\n",
    "print(list(filter(lambda n: numDivisores(n)>5,numeros)))"
   ]
  },
  {
   "cell_type": "markdown",
   "id": "3e767176",
   "metadata": {},
   "source": [
    "## EJERCICIO 9"
   ]
  },
  {
   "attachments": {},
   "cell_type": "markdown",
   "id": "9da406b8",
   "metadata": {},
   "source": [
    "Dada una lista de palabras, quédate con reduce() con la palabra más larga. Necesitarás una función que compare dos palabras y devuelva la que tenga mayor longitud."
   ]
  },
  {
   "cell_type": "code",
   "execution_count": null,
   "id": "fe94cb7b",
   "metadata": {},
   "outputs": [],
   "source": [
    "from functools import reduce\n",
    "\n",
    "def masLarga(palabra1,palabra2):\n",
    "    if len(palabra1)>len(palabra2):\n",
    "        return palabra1\n",
    "    return palabra2\n",
    "\n",
    "palabras=[\"prueba\",\"semáforo\",\"que\",\"ejemplo\",\"papelera\",\"tiene\"]\n",
    "print(reduce(masLarga,palabras))"
   ]
  },
  {
   "cell_type": "markdown",
   "id": "b97cdccc",
   "metadata": {},
   "source": [
    "## EJERCICIO 10"
   ]
  },
  {
   "attachments": {},
   "cell_type": "markdown",
   "id": "4bbf4135",
   "metadata": {},
   "source": [
    "Dada una lista de palabras, calcula el número de vocales de cada una con map()."
   ]
  },
  {
   "cell_type": "code",
   "execution_count": null,
   "id": "2486a10c",
   "metadata": {},
   "outputs": [],
   "source": [
    "def numVocales(palabra):\n",
    "    palabra.lower()\n",
    "    contador=0\n",
    "    for c in palabra:\n",
    "        if c in \"aeiou\":\n",
    "            contador+=1\n",
    "    return contador\n",
    "\n",
    "palabras=[\"prueba\",\"semáforo\",\"que\",\"ejemplo\",\"papelera\",\"tiene\"]\n",
    "print(list(map(numVocales,palabras)))"
   ]
  },
  {
   "cell_type": "markdown",
   "id": "17b343e6",
   "metadata": {},
   "source": [
    "## EJERCICIO 11"
   ]
  },
  {
   "attachments": {},
   "cell_type": "markdown",
   "id": "eb6f147e",
   "metadata": {},
   "source": [
    "Dada una lista de palabras, quédate con reduce() y map() con la palabra con más consonantes (hay que mostrar el número de consonantes). Necesitarás una función que cuente el número de consonantes de una palabra y otra que dados dos números, devuelva el mayor."
   ]
  },
  {
   "cell_type": "code",
   "execution_count": null,
   "id": "5b526e4a",
   "metadata": {},
   "outputs": [],
   "source": [
    "from functools import reduce\n",
    "\n",
    "def numConsonantes(palabra):\n",
    "    palabra.lower()\n",
    "    contador=0\n",
    "    for c in palabra:\n",
    "        if c in \"bcdfghjklmnñpqrstvwxyz\":\n",
    "            contador+=1\n",
    "    return contador\n",
    "\n",
    "def mayor(a,b):\n",
    "    return a>b\n",
    "\n",
    "palabras=[\"prueba\",\"semáforo\",\"que\",\"ejemplo\",\"papelera\",\"tiene\"]\n",
    "print(reduce(mayor,map(numConsonantes,palabras)))"
   ]
  },
  {
   "cell_type": "markdown",
   "id": "88fe1c72",
   "metadata": {},
   "source": [
    "## EJERCICIO 12"
   ]
  },
  {
   "attachments": {},
   "cell_type": "markdown",
   "id": "f7446bb5",
   "metadata": {},
   "source": [
    "Dada una lista de números enteros, calcula otra lista con el número anterior de cada elemento con map()."
   ]
  },
  {
   "cell_type": "code",
   "execution_count": null,
   "id": "0ff77c22",
   "metadata": {},
   "outputs": [],
   "source": [
    "numeros=[17,3,17,20,100,45]\n",
    "print(list(map(lambda n: n-1,numeros)))"
   ]
  },
  {
   "cell_type": "markdown",
   "id": "6bcd805d",
   "metadata": {},
   "source": [
    "## EJERCICIO 13"
   ]
  },
  {
   "attachments": {},
   "cell_type": "markdown",
   "id": "18202d6c",
   "metadata": {},
   "source": [
    "Dada una lista de números reales, ordénalos con sorted() por valor absoluto de menor a mayor."
   ]
  },
  {
   "cell_type": "code",
   "execution_count": null,
   "id": "667e2362",
   "metadata": {},
   "outputs": [],
   "source": [
    "def abs(x):\n",
    "    if x <0:\n",
    "        return -x\n",
    "    return x\n",
    "\n",
    "numeros=[17,3,-17,20,-100,45]\n",
    "print(sorted(numeros,key=abs))"
   ]
  },
  {
   "cell_type": "markdown",
   "id": "e60749fd",
   "metadata": {},
   "source": [
    "## EJERCICIO 14"
   ]
  },
  {
   "attachments": {},
   "cell_type": "markdown",
   "id": "e7b12a5a",
   "metadata": {},
   "source": [
    "Dada una lista de palabras, ordénalos con sorted() por número de consonantes de mayor a menor."
   ]
  },
  {
   "cell_type": "code",
   "execution_count": null,
   "id": "c1fdbe10",
   "metadata": {},
   "outputs": [],
   "source": [
    "def numConsonantes(palabra):\n",
    "    palabra.lower()\n",
    "    contador=0\n",
    "    for c in palabra:\n",
    "        if c in \"bcdfghjklmnñpqrstvwxyz\":\n",
    "            contador+=1\n",
    "    return contador\n",
    "\n",
    "palabras=[\"prueba\",\"semáforo\",\"que\",\"ejemplo\",\"papelera\",\"tiene\"]\n",
    "print(sorted(palabras,key=numConsonantes,reverse=True))"
   ]
  }
 ],
 "metadata": {
  "kernelspec": {
   "display_name": "Python 3 (ipykernel)",
   "language": "python",
   "name": "python3"
  },
  "language_info": {
   "codemirror_mode": {
    "name": "ipython",
    "version": 3
   },
   "file_extension": ".py",
   "mimetype": "text/x-python",
   "name": "python",
   "nbconvert_exporter": "python",
   "pygments_lexer": "ipython3",
   "version": "3.10.9"
  }
 },
 "nbformat": 4,
 "nbformat_minor": 5
}
