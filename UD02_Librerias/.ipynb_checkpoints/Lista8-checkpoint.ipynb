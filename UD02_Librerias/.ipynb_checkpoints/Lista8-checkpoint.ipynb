{
 "cells": [
  {
   "cell_type": "markdown",
   "id": "d287d88e",
   "metadata": {},
   "source": [
    "# LISTA 8 - PANDAS"
   ]
  },
  {
   "cell_type": "markdown",
   "id": "f99190d1",
   "metadata": {},
   "source": [
    "## EJERCICIO 1"
   ]
  },
  {
   "cell_type": "markdown",
   "id": "b3836703",
   "metadata": {},
   "source": [
    "Crea un dataframe con 15 filas y 2 columnas. La primera columna se llamará x, la segunda y. Cada entrada será un número aleatorio (puedes usar random.normal()). Guarda el dataframe en una variable llamada points."
   ]
  },
  {
   "cell_type": "code",
   "execution_count": null,
   "id": "10d5b17a",
   "metadata": {},
   "outputs": [],
   "source": [
    "import pandas as pd\n",
    "import numpy as np\n",
    "x = np.random.normal(0,1,15)\n",
    "y = np.random.normal(0,2,15)\n",
    "data=list(zip(x,y))\n",
    "points=pd.DataFrame(data,columns=[\"x\",\"y\"])\n",
    "print(points)"
   ]
  },
  {
   "cell_type": "markdown",
   "id": "feb0417e",
   "metadata": {},
   "source": [
    "## EJERCICIO 2"
   ]
  },
  {
   "cell_type": "markdown",
   "id": "91cd8f7c",
   "metadata": {},
   "source": [
    "Del dataframe points, muestra las filas cuyo valor en la columna x sea positivo."
   ]
  },
  {
   "cell_type": "code",
   "execution_count": null,
   "id": "a2d08eca",
   "metadata": {},
   "outputs": [],
   "source": [
    "print(points[points[\"x\"]>=0])"
   ]
  },
  {
   "cell_type": "markdown",
   "id": "abf81a65",
   "metadata": {},
   "source": [
    "## EJERCICIO 3"
   ]
  },
  {
   "cell_type": "markdown",
   "id": "c0dda757",
   "metadata": {},
   "source": [
    "Del dataframe points, muestra las filas cuyo valor en la columna y sea negativo."
   ]
  },
  {
   "cell_type": "code",
   "execution_count": null,
   "id": "df9d019c",
   "metadata": {},
   "outputs": [],
   "source": [
    "print(points.query('y<0')"
   ]
  },
  {
   "cell_type": "markdown",
   "id": "4d68e82b",
   "metadata": {},
   "source": [
    "## EJERCICIO 4"
   ]
  },
  {
   "cell_type": "markdown",
   "id": "ec7f3b2a",
   "metadata": {},
   "source": [
    "Del dataframe points, muestra las observaciones cuyos puntos (x, y) pertenezcan al primer cuadrante. "
   ]
  },
  {
   "cell_type": "code",
   "execution_count": null,
   "id": "738a88a3",
   "metadata": {},
   "outputs": [],
   "source": [
    "print(points.query('y>0 and x>0'))\n",
    "\n",
    "filtro=(points[\"x\"] >= 0) & (points[\"y\"] >= 0)\n",
    "print(points[filtro])"
   ]
  },
  {
   "cell_type": "markdown",
   "id": "5c943554",
   "metadata": {},
   "source": [
    "## EJERCICIO 5"
   ]
  },
  {
   "cell_type": "markdown",
   "id": "13d2c744",
   "metadata": {},
   "source": [
    "Del dataframe points, muestra las observaciones de la forma: “El punto ({x}, {y}) {no/sí} pertenece al primer cuadrante”."
   ]
  },
  {
   "cell_type": "code",
   "execution_count": 1,
   "id": "6e71e599",
   "metadata": {},
   "outputs": [
    {
     "ename": "NameError",
     "evalue": "name 'points' is not defined",
     "output_type": "error",
     "traceback": [
      "\u001b[0;31m---------------------------------------------------------------------------\u001b[0m",
      "\u001b[0;31mNameError\u001b[0m                                 Traceback (most recent call last)",
      "Cell \u001b[0;32mIn[1], line 1\u001b[0m\n\u001b[0;32m----> 1\u001b[0m \u001b[38;5;28;01mfor\u001b[39;00m j \u001b[38;5;129;01min\u001b[39;00m \u001b[43mpoints\u001b[49m\u001b[38;5;241m.\u001b[39mitertuples():\n\u001b[1;32m      2\u001b[0m     cuadrante1\u001b[38;5;241m=\u001b[39m\u001b[38;5;124m\"\u001b[39m\u001b[38;5;124mno\u001b[39m\u001b[38;5;124m\"\u001b[39m\n\u001b[1;32m      3\u001b[0m     \u001b[38;5;28;01mif\u001b[39;00m j[\u001b[38;5;241m0\u001b[39m]\u001b[38;5;241m>\u001b[39m\u001b[38;5;241m=\u001b[39m\u001b[38;5;241m0\u001b[39m \u001b[38;5;129;01mand\u001b[39;00m j[\u001b[38;5;241m1\u001b[39m]\u001b[38;5;241m>\u001b[39m\u001b[38;5;241m=\u001b[39m\u001b[38;5;241m0\u001b[39m:\n",
      "\u001b[0;31mNameError\u001b[0m: name 'points' is not defined"
     ]
    }
   ],
   "source": [
    "for j in points.itertuples():\n",
    "    cuadrante1=\"no\"\n",
    "    if j[0]>=0 and j[1]>=0:\n",
    "        cuadrante1=\"si\"\n",
    "    print(\"El punto ({:.2f},{:.2f}) {} pertenece al primer cuadrante\".format(j[0],j[1],cuadrante1))"
   ]
  },
  {
   "cell_type": "markdown",
   "id": "2972dd7e",
   "metadata": {},
   "source": [
    "## EJERCICIO 6"
   ]
  },
  {
   "cell_type": "markdown",
   "id": "ef3c12ce",
   "metadata": {},
   "source": [
    "Crea un dataframe con 10 filas y 4 columnas. La primera columna se llamará word; la segunda, length; la tercera, vowels; y la última, consonants. La columna words contendrá las siguientes 10 palabras: “euro”, “diez” “algas”, “broma”, “cicuta”, “fatiga”, “nachos”, “jadeos”, “hazañas”, “boutique”. Las columnas length, vowels y consonants contendrán, respectivamente, la longitud, el total de vocales y el total de consonantes (añade las columnas calculando su valor por código). Guarda el dataframe en la variable words."
   ]
  },
  {
   "cell_type": "code",
   "execution_count": null,
   "id": "94962662",
   "metadata": {},
   "outputs": [],
   "source": [
    "import pandas as pd\n",
    "\n",
    "def contarVocales(palabra):\n",
    "    numVocales=0\n",
    "    palabra=palabra.lower()\n",
    "    for c in palabra:\n",
    "        if c in \"aeiou\":\n",
    "            numVocales+=1\n",
    "    return numVocales\n",
    "\n",
    "def contarConsonantes(palabra):\n",
    "    numConsonantes=0\n",
    "    palabra=palabra.lower()\n",
    "    for c in palabra:\n",
    "        if c in \"bcdfghjklmnñpqrstvwxyz\":\n",
    "            numConsonantes+=1\n",
    "    return numConsonantes\n",
    "\n",
    "palabras = [\"euro\", \"diez\", \"algas\", \"broma\", \"cicuta\", \"fatiga\", \"nachos\", \"jadeos\", \"hazañas\", \"boutique\"]\n",
    "data = {\"words\": palabras, \"length\": list(map(len,palabras)), \"vocals\": list(map(contarVocales,palabras)), \"consonants\": list(map(contarConsonantes,palabras))}\n",
    "words=pd.DataFrame(data)\n",
    "print(words)\n"
   ]
  },
  {
   "cell_type": "markdown",
   "id": "cbbfb36c",
   "metadata": {},
   "source": [
    "## EJERCICIO 7"
   ]
  },
  {
   "cell_type": "markdown",
   "id": "f0211a75",
   "metadata": {},
   "source": [
    "Muestra las 10 observaciones de words con el formato “La palabra {word} tiene {length} letras, de las cuales {vowels} son vocales y {consonants} consonantes”."
   ]
  },
  {
   "cell_type": "code",
   "execution_count": null,
   "id": "1dbedf15",
   "metadata": {},
   "outputs": [],
   "source": [
    "for obsv in words.itertuples():\n",
    "    print(\"La palabra {} tiene {} letras, de las cuales {} son vocales y {} consonantes\".format(obsv[1],obsv[2],obsv[3],obsv[4]))"
   ]
  },
  {
   "cell_type": "markdown",
   "id": "59397f22",
   "metadata": {},
   "source": [
    "## EJERCICIO 8"
   ]
  },
  {
   "cell_type": "markdown",
   "id": "8272bcdf",
   "metadata": {},
   "source": [
    "Muestra aquellas observaciones de words que tienen el mismo número de vocales y consonantes."
   ]
  },
  {
   "cell_type": "code",
   "execution_count": null,
   "id": "4ae4ddf2",
   "metadata": {},
   "outputs": [],
   "source": [
    "print(words.query('vocals==consonants'))\n",
    "\n",
    "print(words[words[\"vocals\"]==words[\"consonants\"]])"
   ]
  },
  {
   "cell_type": "markdown",
   "id": "3e767176",
   "metadata": {},
   "source": [
    "## EJERCICIO 9"
   ]
  },
  {
   "cell_type": "markdown",
   "id": "9da406b8",
   "metadata": {},
   "source": [
    "Investiga el método .sort_values() para ordenar las observaciones según la longitud de las palabras en orden descendente."
   ]
  },
  {
   "cell_type": "code",
   "execution_count": 1,
   "id": "fe94cb7b",
   "metadata": {},
   "outputs": [
    {
     "ename": "ModuleNotFoundError",
     "evalue": "No module named 'vectors'",
     "output_type": "error",
     "traceback": [
      "\u001b[0;31m---------------------------------------------------------------------------\u001b[0m",
      "\u001b[0;31mModuleNotFoundError\u001b[0m                       Traceback (most recent call last)",
      "Cell \u001b[0;32mIn[1], line 1\u001b[0m\n\u001b[0;32m----> 1\u001b[0m \u001b[38;5;28;01mfrom\u001b[39;00m \u001b[38;5;21;01mvectors\u001b[39;00m \u001b[38;5;28;01mimport\u001b[39;00m Vector2D\n\u001b[1;32m      3\u001b[0m u\u001b[38;5;241m=\u001b[39mVector2D(\u001b[38;5;241m5\u001b[39m,\u001b[38;5;241m6\u001b[39m)\n\u001b[1;32m      4\u001b[0m v\u001b[38;5;241m=\u001b[39mVector2D(\u001b[38;5;241m-\u001b[39m\u001b[38;5;241m1\u001b[39m,\u001b[38;5;241m3\u001b[39m)\n",
      "\u001b[0;31mModuleNotFoundError\u001b[0m: No module named 'vectors'"
     ]
    }
   ],
   "source": [
    "print(words.sort_values('length',ascending=False))"
   ]
  },
  {
   "cell_type": "markdown",
   "id": "b97cdccc",
   "metadata": {},
   "source": [
    "## EJERCICIO 10"
   ]
  },
  {
   "cell_type": "markdown",
   "id": "4bbf4135",
   "metadata": {},
   "source": [
    "Convierte la columna vowels a lista y, con sorted() ordénala de mayor a menor. Investiga para ello el método .tolist()."
   ]
  },
  {
   "cell_type": "code",
   "execution_count": null,
   "id": "2486a10c",
   "metadata": {},
   "outputs": [],
   "source": [
    "numVocales=sorted(words['vocals'].tolist(),reverse=True)\n",
    "print(numVocales)"
   ]
  }
 ],
 "metadata": {
  "kernelspec": {
   "display_name": "Python 3 (ipykernel)",
   "language": "python",
   "name": "python3"
  },
  "language_info": {
   "codemirror_mode": {
    "name": "ipython",
    "version": 3
   },
   "file_extension": ".py",
   "mimetype": "text/x-python",
   "name": "python",
   "nbconvert_exporter": "python",
   "pygments_lexer": "ipython3",
   "version": "3.10.9"
  }
 },
 "nbformat": 4,
 "nbformat_minor": 5
}
