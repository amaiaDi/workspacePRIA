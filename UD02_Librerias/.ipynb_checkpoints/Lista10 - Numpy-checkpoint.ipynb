{
 "cells": [
  {
   "cell_type": "markdown",
   "id": "d287d88e",
   "metadata": {},
   "source": [
    "# LISTA 4 - NUMPY"
   ]
  },
  {
   "cell_type": "markdown",
   "id": "f99190d1",
   "metadata": {},
   "source": [
    "## EJERCICIO 1"
   ]
  },
  {
   "cell_type": "markdown",
   "id": "b3836703",
   "metadata": {},
   "source": [
    "Crea un array unidimensional de 9 elementos y transfórmalo en un array 3D. Muestra la dimensión y la shape antes y después del reshape."
   ]
  },
  {
   "cell_type": "code",
   "execution_count": 1,
   "id": "10d5b17a",
   "metadata": {
    "tags": []
   },
   "outputs": [
    {
     "name": "stdout",
     "output_type": "stream",
     "text": [
      "Dimension: 1\n",
      "Shape: (9,)\n",
      "[[[1 2 3]\n",
      "  [4 5 6]\n",
      "  [7 8 9]]]\n"
     ]
    }
   ],
   "source": [
    "import numpy as np\n",
    "a = np.array([1,2,3,4,5,6,7,8,9])\n",
    "print(\"Dimension:\", a.ndim)\n",
    "print(\"Shape:\", a.shape)\n",
    "b=a.reshape(1,3,3)\n",
    "print(b)"
   ]
  },
  {
   "cell_type": "markdown",
   "id": "feb0417e",
   "metadata": {},
   "source": [
    "## EJERCICIO 2"
   ]
  },
  {
   "cell_type": "markdown",
   "id": "91cd8f7c",
   "metadata": {},
   "source": [
    "Dados los arrays 2D ```[[-6, 5], [-4, 3], [-2, 1]] y [[1, 2], [3, 4], [5, 6]]```, concaténalos de modo que obtengas el array ```[[1, 2, -6, 5], [3, 4, -4, -3], [5, 6, -2, -1]]```"
   ]
  },
  {
   "cell_type": "code",
   "execution_count": 2,
   "id": "a2d08eca",
   "metadata": {},
   "outputs": [
    {
     "name": "stdout",
     "output_type": "stream",
     "text": [
      "[[ 1  2 -6 -5]\n",
      " [ 3  4 -4 -3]\n",
      " [ 5  6 -2 -1]]\n"
     ]
    }
   ],
   "source": [
    "import numpy as np\n",
    "a = np.array([[-6, -5], [-4, -3], [-2, -1]])\n",
    "b = np.array([[1, 2], [3, 4], [5, 6]])\n",
    "c=np.concatenate((b,a),axis=1)\n",
    "print(c)"
   ]
  },
  {
   "cell_type": "markdown",
   "id": "abf81a65",
   "metadata": {},
   "source": [
    "## EJERCICIO 3"
   ]
  },
  {
   "cell_type": "markdown",
   "id": "c0dda757",
   "metadata": {},
   "source": [
    "Dado el array 2D ```[[1, 2, 3],[-1, 0, 1], [4, 5, 6], [-4, 0, 4], [3, 2, 1], [-3, 0, 3]]``` divídelo en 3 arrays 2D."
   ]
  },
  {
   "cell_type": "code",
   "execution_count": 3,
   "id": "df9d019c",
   "metadata": {},
   "outputs": [
    {
     "name": "stdout",
     "output_type": "stream",
     "text": [
      "b1:  [[ 1  2  3]\n",
      " [-1  0  1]]\n",
      "b2:  [[ 4  5  6]\n",
      " [-4  0  4]]\n",
      "b3:  [[ 3  2  1]\n",
      " [-3  0  3]]\n"
     ]
    }
   ],
   "source": [
    "import numpy as np\n",
    "a = np.array([[1, 2, 3], [-1, 0, 1], [4, 5, 6], [-4, 0, 4], [3, 2, 1], [-3, 0, 3]])\n",
    "b1,b2,b3=np.split(a,3)\n",
    "print(\"b1: \", b1)\n",
    "print(\"b2: \", b2)\n",
    "print(\"b3: \", b3)"
   ]
  },
  {
   "cell_type": "markdown",
   "id": "4d68e82b",
   "metadata": {},
   "source": [
    "## EJERCICIO 4"
   ]
  },
  {
   "cell_type": "markdown",
   "id": "ec7f3b2a",
   "metadata": {},
   "source": [
    "Dado el array 2D ```[[\"ala\", \"delfín\", \"arroz\"], [\"cena\", \"kayak\", \"picnic\"], [\"hoja\", \"gato\", \"elle\"]]```, busca las palabras que sean palíndromos. Necesitarás una función universal."
   ]
  },
  {
   "cell_type": "code",
   "execution_count": 6,
   "id": "738a88a3",
   "metadata": {
    "tags": []
   },
   "outputs": [
    {
     "name": "stdout",
     "output_type": "stream",
     "text": [
      "['ala' 'kayak' 'elle']\n",
      "(array([0, 1, 2], dtype=int64), array([0, 1, 2], dtype=int64))\n",
      "0\n",
      "0\n",
      "ala\n",
      "1\n",
      "1\n",
      "kayak\n",
      "2\n",
      "2\n",
      "elle\n"
     ]
    }
   ],
   "source": [
    "import numpy as np\n",
    "\n",
    "a = np.array([[\"ala\", \"delfín\", \"arroz\"], [\"cena\", \"kayak\", \"picnic\"], [\"hoja\", \"gato\", \"elle\"]])\n",
    "\n",
    "def es_palindromo(w):\n",
    "    w = w.lower()\n",
    "    n = len(w)\n",
    "    for c in range(int(n / 2)):\n",
    "        if w[c] != w[n - (c + 1)]:\n",
    "            return False\n",
    "    return True\n",
    "\n",
    "np_es_palindromo = np.frompyfunc(es_palindromo, 1, 1)\n",
    "print(a[np_es_palindromo(a) == True])\n",
    "\n",
    "indices=np.where(np_es_palindromo(a)==True)\n",
    "print(indices)\n",
    "for i in range(len(indices[0])):\n",
    "    print(indices[0][i])\n",
    "    print(indices[1][i])\n",
    "    print(a[indices[0][i]][indices[1][i]])\n"
   ]
  },
  {
   "cell_type": "markdown",
   "id": "5c943554",
   "metadata": {},
   "source": [
    "## EJERCICIO 5"
   ]
  },
  {
   "cell_type": "markdown",
   "id": "13d2c744",
   "metadata": {},
   "source": [
    "Crea un minijuego que piense un número aleatorio entre 1 y 10 y, hasta que no lo aciertes, te pida un número del 1 al 10. Cuando aciertes, tendrá que devolver el número de intentos y la frase: “¡¡¡ENHORABUENA!!! Has acertado el número que había pensado: el {}”. En caso de que falles, el juego deberá mostrar la frase “¡Has fallado! ¡Prueba otra vez!”"
   ]
  },
  {
   "cell_type": "code",
   "execution_count": 5,
   "id": "6e71e599",
   "metadata": {},
   "outputs": [
    {
     "name": "stdout",
     "output_type": "stream",
     "text": [
      "Intenta adivinar el número: 7\n",
      "¡Has fallado!¡Prueba otra vez! 1\n",
      "¡Has fallado!¡Prueba otra vez! 2\n",
      "¡¡¡ENHORABUENA!!! Has acertado el número que había pensado ( 2 ) en 3 intentos\n"
     ]
    }
   ],
   "source": [
    "import numpy as np\n",
    "numeroSecreto=np.random.randint(1,10)\n",
    "prueba=int(input(\"Intenta adivinar el número: \"))\n",
    "numPruebas=1\n",
    "while prueba!=numeroSecreto:\n",
    "    prueba=int(input(\"¡Has fallado!¡Prueba otra vez! \"))\n",
    "    numPruebas+=1\n",
    "print(\"¡¡¡ENHORABUENA!!! Has acertado el número que había pensado (\", numeroSecreto, \") en\", numPruebas, \"intentos\")\n"
   ]
  },
  {
   "cell_type": "markdown",
   "id": "2972dd7e",
   "metadata": {},
   "source": [
    "## EJERCICIO 6"
   ]
  },
  {
   "cell_type": "markdown",
   "id": "ef3c12ce",
   "metadata": {},
   "source": [
    "Crea un minijuego que piense un array 1D aleatorio de 5 elementos. Los elementos serán números enteros entre 1 y 20. Para cada intento, primero tendrá que pedir 5 números enteros del 1 al 20. El juego nos tendrá que decir cuántos números del array hemos acertado y cuántos números del array están bien colocados. El juego no termina hasta que no se hayan acertado todos los números pensados en la posición correspondiente. Al acabar, se tendrá que mostrar la frase: “¡¡¡ENHORABUENA!!! Has acertado el array que había pensado: {}”"
   ]
  },
  {
   "cell_type": "code",
   "execution_count": 6,
   "id": "94962662",
   "metadata": {},
   "outputs": [
    {
     "name": "stdout",
     "output_type": "stream",
     "text": [
      "Introduce el numero de la posición 0: 5\n",
      "Introduce el numero de la posición 1: 6\n",
      "Introduce el numero de la posición 2: 7\n",
      "Introduce el numero de la posición 3: 3\n",
      "Introduce el numero de la posición 4: 4\n",
      "Has acertado:  0\n",
      "Están en el ordena adecuado:  0\n",
      "Introduce el numero de la posición 0: 1\n",
      "Introduce el numero de la posición 1: 2\n",
      "Introduce el numero de la posición 2: 8\n",
      "Introduce el numero de la posición 3: 9\n",
      "Introduce el numero de la posición 4: 10\n",
      "Has acertado:  2\n",
      "Están en el ordena adecuado:  0\n",
      "Introduce el numero de la posición 0: 11\n",
      "Introduce el numero de la posición 1: 12\n",
      "Introduce el numero de la posición 2: 13\n",
      "Introduce el numero de la posición 3: 14\n",
      "Introduce el numero de la posición 4: 15\n",
      "Has acertado:  1\n",
      "Están en el ordena adecuado:  0\n",
      "Introduce el numero de la posición 0: 1\n",
      "Introduce el numero de la posición 1: 2\n",
      "Introduce el numero de la posición 2: 3\n",
      "Introduce el numero de la posición 3: 4\n",
      "Introduce el numero de la posición 4: 5\n",
      "Has acertado:  0\n",
      "Están en el ordena adecuado:  0\n",
      "Introduce el numero de la posición 0: 8\n",
      "Introduce el numero de la posición 1: 9\n",
      "Introduce el numero de la posición 2: 3\n",
      "Introduce el numero de la posición 3: 4\n",
      "Introduce el numero de la posición 4: 5\n",
      "Has acertado:  1\n",
      "Están en el ordena adecuado:  1\n",
      "Introduce el numero de la posición 0: 8\n",
      "Introduce el numero de la posición 1: 3\n",
      "Introduce el numero de la posición 2: 4\n",
      "Introduce el numero de la posición 3: 5\n",
      "Introduce el numero de la posición 4: 6\n",
      "Has acertado:  0\n",
      "Están en el ordena adecuado:  0\n",
      "Introduce el numero de la posición 0: 9\n",
      "Introduce el numero de la posición 1: 3\n",
      "Introduce el numero de la posición 2: 4\n",
      "Introduce el numero de la posición 3: 5\n",
      "Introduce el numero de la posición 4: 6\n",
      "Has acertado:  1\n",
      "Están en el ordena adecuado:  0\n",
      "Introduce el numero de la posición 0: 10\n",
      "Introduce el numero de la posición 1: 1\n",
      "Introduce el numero de la posición 2: 2\n",
      "Introduce el numero de la posición 3: 3\n",
      "Introduce el numero de la posición 4: 4\n",
      "Has acertado:  1\n",
      "Están en el ordena adecuado:  1\n",
      "Introduce el numero de la posición 0: 1\n",
      "Introduce el numero de la posición 1: 11\n",
      "Introduce el numero de la posición 2: 12\n",
      "Introduce el numero de la posición 3: 3\n",
      "Introduce el numero de la posición 4: 4\n",
      "Has acertado:  0\n",
      "Están en el ordena adecuado:  0\n",
      "Introduce el numero de la posición 0: 1\n",
      "Introduce el numero de la posición 1: 13\n",
      "Introduce el numero de la posición 2: 2\n",
      "Introduce el numero de la posición 3: 3\n",
      "Introduce el numero de la posición 4: 4\n",
      "Has acertado:  0\n",
      "Están en el ordena adecuado:  0\n",
      "Introduce el numero de la posición 0: 5\n",
      "Introduce el numero de la posición 1: 14\n",
      "Introduce el numero de la posición 2: 2\n",
      "Introduce el numero de la posición 3: 3\n",
      "Introduce el numero de la posición 4: 4\n",
      "Has acertado:  1\n",
      "Están en el ordena adecuado:  0\n",
      "Introduce el numero de la posición 0: 1\n",
      "Introduce el numero de la posición 1: 15\n",
      "Introduce el numero de la posición 2: 1\n",
      "Introduce el numero de la posición 3: 2\n",
      "Introduce el numero de la posición 4: 3\n",
      "Has acertado:  0\n",
      "Están en el ordena adecuado:  0\n",
      "Introduce el numero de la posición 0: 1\n",
      "Introduce el numero de la posición 1: 16\n",
      "Introduce el numero de la posición 2: 2\n",
      "Introduce el numero de la posición 3: 3\n",
      "Introduce el numero de la posición 4: 4\n",
      "Has acertado:  0\n",
      "Están en el ordena adecuado:  0\n",
      "Introduce el numero de la posición 0: 1\n",
      "Introduce el numero de la posición 1: 17\n",
      "Introduce el numero de la posición 2: 2\n",
      "Introduce el numero de la posición 3: 3\n",
      "Introduce el numero de la posición 4: 4\n",
      "Has acertado:  0\n",
      "Están en el ordena adecuado:  0\n",
      "Introduce el numero de la posición 0: 1\n",
      "Introduce el numero de la posición 1: 18\n",
      "Introduce el numero de la posición 2: 2\n",
      "Introduce el numero de la posición 3: 3\n",
      "Introduce el numero de la posición 4: 4\n",
      "Has acertado:  1\n",
      "Están en el ordena adecuado:  0\n",
      "Introduce el numero de la posición 0: 1\n",
      "Introduce el numero de la posición 1: 19\n",
      "Introduce el numero de la posición 2: 2\n",
      "Introduce el numero de la posición 3: 3\n",
      "Introduce el numero de la posición 4: 4\n",
      "Has acertado:  1\n",
      "Están en el ordena adecuado:  0\n",
      "Introduce el numero de la posición 0: 10\n",
      "Introduce el numero de la posición 1: 9\n",
      "Introduce el numero de la posición 2: 1\n",
      "Introduce el numero de la posición 3: 2\n",
      "Introduce el numero de la posición 4: 3\n",
      "Has acertado:  2\n",
      "Están en el ordena adecuado:  2\n",
      "Introduce el numero de la posición 0: 10\n",
      "Introduce el numero de la posición 1: 9\n",
      "Introduce el numero de la posición 2: 14\n",
      "Introduce el numero de la posición 3: 1\n",
      "Introduce el numero de la posición 4: 2\n",
      "Has acertado:  3\n",
      "Están en el ordena adecuado:  2\n",
      "Introduce el numero de la posición 0: 10\n",
      "Introduce el numero de la posición 1: 9\n",
      "Introduce el numero de la posición 2: 1\n",
      "Introduce el numero de la posición 3: 14\n",
      "Introduce el numero de la posición 4: 2\n",
      "Has acertado:  3\n",
      "Están en el ordena adecuado:  2\n",
      "Introduce el numero de la posición 0: 10\n",
      "Introduce el numero de la posición 1: 9\n",
      "Introduce el numero de la posición 2: 18\n",
      "Introduce el numero de la posición 3: 19\n",
      "Introduce el numero de la posición 4: 14\n",
      "Has acertado:  5\n",
      "Están en el ordena adecuado:  5\n",
      "¡¡¡ENHORABUENA!!! Has acertado el array que había pensado: [10  9 18 19 14]\n"
     ]
    }
   ],
   "source": [
    "import numpy as np\n",
    "numerosSecretos=np.random.randint(0,20,5)\n",
    "ordenados=0\n",
    "while ordenados<5:\n",
    "    acertados=0\n",
    "    ordenados=0\n",
    "    for i in range(5):\n",
    "        num=int(input(\"Introduce el numero de la posición {}: \".format(i)))\n",
    "        if num in numerosSecretos:\n",
    "            acertados+=1\n",
    "        if numerosSecretos[i]==num:\n",
    "            ordenados+=1   \n",
    "    print(\"Has acertado: \", acertados)\n",
    "    print(\"Están en el ordena adecuado: \", ordenados)\n",
    "print(\"¡¡¡ENHORABUENA!!! Has acertado el array que había pensado:\", numerosSecretos)\n"
   ]
  },
  {
   "cell_type": "markdown",
   "id": "cbbfb36c",
   "metadata": {},
   "source": [
    "## EJERCICIO 7"
   ]
  },
  {
   "cell_type": "markdown",
   "id": "f0211a75",
   "metadata": {},
   "source": [
    "A partir de la lista ```[-3, -2, -1, 0, 1, 2, 3]```, genera dos arrays aleatorios 2D de size = (3, 4) y súmalos."
   ]
  },
  {
   "cell_type": "code",
   "execution_count": 9,
   "id": "1dbedf15",
   "metadata": {},
   "outputs": [
    {
     "name": "stdout",
     "output_type": "stream",
     "text": [
      "[[ 0  1  1  2]\n",
      " [ 3 -4  1  5]\n",
      " [ 1  0 -1 -6]]\n"
     ]
    }
   ],
   "source": [
    "import numpy as np\n",
    "a=np.array([-3, -2, -1, 0, 1, 2, 3])\n",
    "c1=np.random.choice(a, size = (3, 4))\n",
    "c2=np.random.choice(a, size = (3, 4))\n",
    "print(c1+c2)"
   ]
  },
  {
   "cell_type": "markdown",
   "id": "59397f22",
   "metadata": {},
   "source": [
    "## EJERCICIO 8"
   ]
  },
  {
   "cell_type": "markdown",
   "id": "8272bcdf",
   "metadata": {},
   "source": [
    "Crea una función universal que dado un array de strings devuelva el número total de vocales de cada string."
   ]
  },
  {
   "cell_type": "code",
   "execution_count": 10,
   "id": "4ae4ddf2",
   "metadata": {},
   "outputs": [
    {
     "name": "stdout",
     "output_type": "stream",
     "text": [
      "[2 2 2 2 2 2 2 2 2]\n"
     ]
    }
   ],
   "source": [
    "import numpy as np\n",
    "a = np.array([\"ala\", \"delfin\", \"arroz\", \"cena\", \"kayak\", \"picnic\", \"hoja\", \"gato\", \"elle\"])\n",
    "\n",
    "def numVocales(w):\n",
    "    contador=0\n",
    "    w = w.lower()\n",
    "    for c in w:\n",
    "        if c in \"aeiou\":\n",
    "            contador+=1\n",
    "    return contador\n",
    "\n",
    "np_numVocales = np.frompyfunc(numVocales, 1, 1)\n",
    "print(np_numVocales(a))"
   ]
  }
 ],
 "metadata": {
  "kernelspec": {
   "display_name": "Python 3 (ipykernel)",
   "language": "python",
   "name": "python3"
  },
  "language_info": {
   "codemirror_mode": {
    "name": "ipython",
    "version": 3
   },
   "file_extension": ".py",
   "mimetype": "text/x-python",
   "name": "python",
   "nbconvert_exporter": "python",
   "pygments_lexer": "ipython3",
   "version": "3.11.4"
  }
 },
 "nbformat": 4,
 "nbformat_minor": 5
}
