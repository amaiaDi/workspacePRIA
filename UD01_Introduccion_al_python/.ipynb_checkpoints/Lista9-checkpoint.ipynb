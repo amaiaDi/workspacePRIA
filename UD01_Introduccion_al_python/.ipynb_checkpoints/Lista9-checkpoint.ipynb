{
 "cells": [
  {
   "cell_type": "markdown",
   "id": "d287d88e",
   "metadata": {},
   "source": [
    "# LISTA 9 - GRÁFICOS"
   ]
  },
  {
   "cell_type": "markdown",
   "id": "f99190d1",
   "metadata": {},
   "source": [
    "## EJERCICIO 1"
   ]
  },
  {
   "cell_type": "markdown",
   "id": "b3836703",
   "metadata": {},
   "source": [
    "Dibuja 100 puntos aleatorios (entre 0 y 100 para ambas coordenadas) con colores y tamaños aleatorios y una transparencia de 0.5.\n",
    "\n",
    "Tendrás que crear 4 arrays aleatorios de 100 posiciones: uno para las coordenadas x, otro para y, otro para el color de cada punto y un último para el tamaño de cada punto. Para que los puntos no se vean muy pequeños, multiplica el array de tamaños por 10.\n",
    "\n",
    "Configura el tamaño de la figura a 10 x 10. Para ello, investiga el método .figure() de plt.\n",
    "\n",
    "Por último, selecciona los colores combinando el array aleatorio y el mapa de color llamado hsv y recuerda mostrar la colorbar."
   ]
  },
  {
   "cell_type": "code",
   "execution_count": null,
   "id": "10d5b17a",
   "metadata": {},
   "outputs": [],
   "source": [
    "import matplotlib.pyplot as plt\n",
    "import numpy as np\n",
    "\n",
    "x=np.random.randint(0,100,100)\n",
    "y=np.random.randint(0,100,100)\n",
    "color=np.random.randint(0,100,100)\n",
    "tamaina=10*np.random.randint(0,100,100)\n",
    "plt.figure(figsize=(10,10))\n",
    "plt.title(\"Puntos aleatorios\")\n",
    "plt.xlabel(\"X\")\n",
    "plt.ylabel(\"Y\")\n",
    "plt.scatter(x = x, y = y, c = color, alpha =0.5,s =tamaina, cmap=\"hsv\")\n",
    "plt.colorbar()\n",
    "plt.show()"
   ]
  },
  {
   "cell_type": "markdown",
   "id": "feb0417e",
   "metadata": {},
   "source": [
    "## EJERCICIO 2"
   ]
  },
  {
   "cell_type": "markdown",
   "id": "91cd8f7c",
   "metadata": {},
   "source": [
    "Crea una función que dado un color en forma RGB lo transforme en su forma hexadecimal."
   ]
  },
  {
   "cell_type": "code",
   "execution_count": null,
   "id": "a2d08eca",
   "metadata": {},
   "outputs": [],
   "source": [
    "def add_zeros(n, cifras):\n",
    "    n = str(n)\n",
    "    while len(n) < cifras:\n",
    "        n = \"0\" + n\n",
    "    return n\n",
    "\n",
    "def color_correcto(colorRGB):\n",
    "    if colorRGB >= 0 and colorRGB <= 255:\n",
    "        return True\n",
    "    return False\n",
    "\n",
    "def rgb_to_hexadecimal(r, g, b):\n",
    "    if type(r) == int and type(g) == int and type(b) == int:\n",
    "        if color_correcto(r) and color_correcto(g) and color_correcto(b):\n",
    "            r_hex = add_zeros(hex(r)[2:],2)\n",
    "            g_hex = add_zeros(hex(g)[2:], 2)\n",
    "            b_hex = add_zeros(hex(b)[2:], 2)\n",
    "            return \"#\"+r_hex+g_hex+b_hex\n",
    "        else:\n",
    "            print(\"Los valores de r, g y b tienen que estar entre 0 y 255\")\n",
    "            return -1\n",
    "    else:\n",
    "        print(\"Los valores de r, g y b tienen que ser enteros\")\n",
    "        return -1\n",
    "\n",
    "print(rgb_to_hexadecimal(0,0,0))\n",
    "print(rgb_to_hexadecimal(255,0,255))\n",
    "print(rgb_to_hexadecimal(100,0,0))\n",
    "print(rgb_to_hexadecimal(0,\"a\",0))\n",
    "print(rgb_to_hexadecimal(0,1000,0))\n"
   ]
  },
  {
   "cell_type": "markdown",
   "id": "abf81a65",
   "metadata": {},
   "source": [
    "## EJERCICIO 3"
   ]
  },
  {
   "cell_type": "markdown",
   "id": "c0dda757",
   "metadata": {},
   "source": [
    "Dibuja la función sinx(x) de color #f06741, la función 2sinx(x) de color #a4f041 y la función -sinx(x) de color #8d41f0 donde x ∈ ```[-5π, 5π]``` en el mismo plot.\n",
    "\n",
    "Crea el array x de tamaño 100 con el método .linspace() de numpy.\n",
    "\n",
    "Haz que el tamaño de la figure sea 8 x 6."
   ]
  },
  {
   "cell_type": "code",
   "execution_count": null,
   "id": "df9d019c",
   "metadata": {},
   "outputs": [],
   "source": [
    "import matplotlib.pyplot as plt\n",
    "import numpy as np\n",
    "import math\n",
    "\n",
    "x=np.linspace(-5*math.pi,5*math.pi,100)\n",
    "plt.figure(figsize=(8,6))\n",
    "plt.plot(x,np.sin(x)/x,c=\"#f06741\")\n",
    "plt.plot(x,2*np.sin(x)/x,c=\"#a4f041\")\n",
    "plt.plot(x,-np.sin(x)/x,c=\"#8d41f0\")\n",
    "plt.show()"
   ]
  },
  {
   "cell_type": "markdown",
   "id": "4d68e82b",
   "metadata": {},
   "source": [
    "## EJERCICIO 4"
   ]
  },
  {
   "cell_type": "markdown",
   "id": "ec7f3b2a",
   "metadata": {},
   "source": [
    "Dibuja las 3 funciones del ejercicio anterior cada una en un subplot con el método .subplot().\n",
    "\n",
    "Haz que el tamaño de la figure global sea 10 x 5."
   ]
  },
  {
   "cell_type": "code",
   "execution_count": null,
   "id": "738a88a3",
   "metadata": {},
   "outputs": [],
   "source": [
    "import matplotlib.pyplot as plt\n",
    "import numpy as np\n",
    "import math\n",
    "\n",
    "x=np.linspace(-5*math.pi,5*math.pi,100)\n",
    "plt.figure(figsize=(10,5))\n",
    "plt.subplot(3,1,1)\n",
    "plt.plot(x,np.sin(x)/x,c=\"#f06741\")\n",
    "plt.subplot(3,1,2)\n",
    "plt.plot(x,2*np.sin(x)/x,c=\"#a4f041\")\n",
    "plt.subplot(3,1,3)\n",
    "plt.plot(x,-np.sin(x)/x,c=\"#8d41f0\")\n",
    "plt.show()\n"
   ]
  },
  {
   "cell_type": "markdown",
   "id": "5c943554",
   "metadata": {},
   "source": [
    "## EJERCICIO 5"
   ]
  },
  {
   "cell_type": "markdown",
   "id": "f2fe60bc",
   "metadata": {},
   "source": [
    "Dibuja un diagrama de sectores con los siguientes datos y los siguientes colores. Añádele un título, etiquetas, sombra, una separación de 0.2 al sector más pequeño, haz que empiece en el ángulo 45 y muestra los porcentajes con un solo decimal.\n",
    "\n",
    "options = ```[\"Suspenso\", \"Aprobado\", \"Notable\", \"Excelente\"]```\n",
    "count = ```[20, 10, 45, 25]```\n",
    "colors = ```[\"#ff2667\", \"#ff7226\", \"#26a8ff\", \"#67ff26\"]```"
   ]
  },
  {
   "cell_type": "code",
   "execution_count": null,
   "id": "6e94d63d",
   "metadata": {},
   "outputs": [],
   "source": [
    "import matplotlib.pyplot as plt\n",
    "options = [\"Suspenso\", \"Aprobado\", \"Notable\", \"Excelente\"]\n",
    "count = [20, 10, 45, 25]\n",
    "colors = [\"#ff2667\", \"#ff7226\", \"#26a8ff\", \"#67ff26\"]\n",
    "plt.pie(count,colors=colors,labels=options,autopct = \"%0.1f%%\", shadow=True, explode=[0, 0.2, 0,0],startangle=45)\n",
    "plt.title(\"Notas\")\n",
    "plt.show()\n"
   ]
  },
  {
   "cell_type": "markdown",
   "id": "2972dd7e",
   "metadata": {},
   "source": [
    "## EJERCICIO 6"
   ]
  },
  {
   "cell_type": "markdown",
   "id": "ef3c12ce",
   "metadata": {},
   "source": [
    "Dibuja el siguiente grafo con los nodos de color #ad80fa, las aristas de color #b1ddf5, el nombre de los nodos de color blanco y en negrita.\n",
    "```\n",
    "import networkx as nx\n",
    "G = nx.Graph()\n",
    "G.add_nodes_from(\"abcde\")\n",
    "G.add_weighted_edges_from([(\"a\", \"b\", 1), (\"a\", \"c\", 2), (\"a\", \"d\", 2), (\"a\", \"e\", 5), (\"b\", \"e\", 4), (\"c\", \"d\", 3), (\"d\", \"e\", 1)])\n",
    "```"
   ]
  },
  {
   "cell_type": "code",
   "execution_count": null,
   "id": "94962662",
   "metadata": {},
   "outputs": [],
   "source": [
    "import networkx as nx\n",
    "import matplotlib.pyplot as plt\n",
    "G = nx.Graph()\n",
    "G.add_nodes_from(\"abcde\")\n",
    "G.add_weighted_edges_from([(\"a\", \"b\", 1), (\"a\", \"c\", 2), (\"a\", \"d\", 2), (\"a\", \"e\", 5),(\"b\", \"e\", 4), (\"c\", \"d\", 3), (\"d\", \"e\", 1)])\n",
    "nx.draw(G, with_labels = True, font_color = \"white\",font_weight = \"bold\",node_color = \"#ad80fa\", edge_color = \"#b1ddf5\")\n",
    "plt.show()"
   ]
  },
  {
   "cell_type": "markdown",
   "id": "cbbfb36c",
   "metadata": {},
   "source": [
    "## EJERCICIO 7"
   ]
  },
  {
   "cell_type": "markdown",
   "id": "f0211a75",
   "metadata": {},
   "source": [
    "Considera el grafo del ejercicio anterior. El tamaño de los nodos debe ser 350 por el grado del nodo. El tamaño de la figura global debe ser de 8 x 6."
   ]
  },
  {
   "cell_type": "code",
   "execution_count": null,
   "id": "1dbedf15",
   "metadata": {},
   "outputs": [],
   "source": [
    "import networkx as nx\n",
    "import matplotlib.pyplot as plt\n",
    "G = nx.Graph()\n",
    "G.add_nodes_from(\"abcde\")\n",
    "plt.figure(figsize=(8,6))\n",
    "G.add_weighted_edges_from([(\"a\", \"b\", 1), (\"a\", \"c\", 2), (\"a\", \"d\", 2), (\"a\", \"e\", 5),(\"b\", \"e\", 4), (\"c\", \"d\", 3), (\"d\", \"e\", 1)])\n",
    "nx.draw(G, with_labels = True, font_color = \"white\",font_weight = \"bold\",node_color = \"#ad80fa\", edge_color = \"#b1ddf5\", node_size=[360*G.degree(x) for x in G.nodes])\n",
    "plt.show()\n"
   ]
  },
  {
   "cell_type": "markdown",
   "id": "59397f22",
   "metadata": {},
   "source": [
    "## EJERCICIO 8"
   ]
  },
  {
   "cell_type": "markdown",
   "id": "8272bcdf",
   "metadata": {},
   "source": [
    "Considera el grafo del ejercicio anterior. El grosor de las aristas debe ir acorde al peso de cada arista."
   ]
  },
  {
   "cell_type": "code",
   "execution_count": null,
   "id": "4ae4ddf2",
   "metadata": {},
   "outputs": [],
   "source": [
    "import networkx as nx\n",
    "import matplotlib.pyplot as plt\n",
    "G = nx.Graph()\n",
    "G.add_nodes_from(\"abcde\")\n",
    "plt.figure(figsize=(8,6))\n",
    "G.add_weighted_edges_from([(\"a\", \"b\", 1), (\"a\", \"c\", 2), (\"a\", \"d\", 2), (\"a\", \"e\", 5),(\"b\", \"e\", 4), (\"c\", \"d\", 3), (\"d\", \"e\", 1)])\n",
    "nx.draw(G, with_labels = True, font_color = \"white\",font_weight = \"bold\",node_color = \"#ad80fa\", edge_color = \"#b1ddf5\", node_size=[360*G.degree(x) for x in G.nodes], width=[G[u][v]['weight'] for u,v in G.edges])\n",
    "plt.show()\n"
   ]
  },
  {
   "cell_type": "markdown",
   "id": "3e767176",
   "metadata": {},
   "source": [
    "## EJERCICIO 9"
   ]
  },
  {
   "cell_type": "markdown",
   "id": "9da406b8",
   "metadata": {},
   "source": [
    "Investiga el método .text() de plt para añadir texto a un plot.\n",
    "\n",
    "Añade las siguientes 3 palabras “LA”, “AVENTURA”, “SIGUE”.\n",
    "\n",
    "La palabra “LA” debe estar en la posición (0.2, 0.8), con tamaño 50 y rotación 25, con alineación vertical y horizontal en el centro, y en una caja de estilo redondo, con color de borde y relleno #242fff y transparencia 0.7.\n",
    "\n",
    "La palabra “AVENTURA” debe estar en la posición (0.5, 0.55), con tamaño 50 y rotación -15, con alineación vertical y horizontal en el centro, y en una caja de estilo redondo, con color de borde y relleno #8a24ff y transparencia 0.7.\n",
    "\n",
    "La palabra “SIGUE” debe estar en la posición (0.8, 0.3), con tamaño 50 y rotación 10, con alineación vertical y horizontal en el centro, y en una caja de estilo redondo, con color de borde y relleno #24fff4 y transparencia 0.7.\n",
    "\n",
    "El tamaño de la figura global debe ser 10 x 8."
   ]
  },
  {
   "cell_type": "code",
   "execution_count": 1,
   "id": "fe94cb7b",
   "metadata": {},
   "outputs": [
    {
     "ename": "ModuleNotFoundError",
     "evalue": "No module named 'vectors'",
     "output_type": "error",
     "traceback": [
      "\u001b[0;31m---------------------------------------------------------------------------\u001b[0m",
      "\u001b[0;31mModuleNotFoundError\u001b[0m                       Traceback (most recent call last)",
      "Cell \u001b[0;32mIn[1], line 1\u001b[0m\n\u001b[0;32m----> 1\u001b[0m \u001b[38;5;28;01mfrom\u001b[39;00m \u001b[38;5;21;01mvectors\u001b[39;00m \u001b[38;5;28;01mimport\u001b[39;00m Vector2D\n\u001b[1;32m      3\u001b[0m u\u001b[38;5;241m=\u001b[39mVector2D(\u001b[38;5;241m5\u001b[39m,\u001b[38;5;241m6\u001b[39m)\n\u001b[1;32m      4\u001b[0m v\u001b[38;5;241m=\u001b[39mVector2D(\u001b[38;5;241m-\u001b[39m\u001b[38;5;241m1\u001b[39m,\u001b[38;5;241m3\u001b[39m)\n",
      "\u001b[0;31mModuleNotFoundError\u001b[0m: No module named 'vectors'"
     ]
    }
   ],
   "source": [
    "import matplotlib.pyplot as plt\n",
    "plt.figure(figsize=(10,8))\n",
    "plt.text(0.2, 0.8, \"LA\", size=50, rotation=25, ha=\"center\", va=\"center\",\n",
    "    bbox=dict(boxstyle=\"round\", ec=\"#242fff\", fc=\"#242fff\", alpha=0.7)\n",
    ")\n",
    "plt.text(0.5, 0.55, \"AVENTURA\", size=50, rotation=-15,ha=\"center\", va=\"center\",\n",
    "    bbox=dict(boxstyle=\"round\", ec=\"#8a24ff\", fc=\"#8a24ff\", alpha=0.7)\n",
    ")\n",
    "plt.text(0.8, 0.3, \"SIGUE\", size=50, rotation=10, ha=\"center\", va=\"center\",\n",
    "    bbox=dict(boxstyle=\"round\", ec=\"#24fff4\", fc=\"#24fff4\", alpha=0.7)\n",
    ")\n",
    "plt.show()"
   ]
  }
 ],
 "metadata": {
  "kernelspec": {
   "display_name": "Python 3 (ipykernel)",
   "language": "python",
   "name": "python3"
  },
  "language_info": {
   "codemirror_mode": {
    "name": "ipython",
    "version": 3
   },
   "file_extension": ".py",
   "mimetype": "text/x-python",
   "name": "python",
   "nbconvert_exporter": "python",
   "pygments_lexer": "ipython3",
   "version": "3.10.9"
  }
 },
 "nbformat": 4,
 "nbformat_minor": 5
}
